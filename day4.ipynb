{
 "cells": [
  {
   "cell_type": "code",
   "execution_count": 8,
   "metadata": {},
   "outputs": [
    {
     "name": "stdout",
     "output_type": "stream",
     "text": [
      "0 Hello World\n",
      "1 Hello World\n",
      "2 Hello World\n",
      "3 Hello World\n",
      "4 Hello World\n"
     ]
    }
   ],
   "source": [
    "#for loop\n",
    "for i in range(5):\n",
    "    print (i,\"Hello World\")"
   ]
  },
  {
   "cell_type": "code",
   "execution_count": 9,
   "metadata": {},
   "outputs": [
    {
     "name": "stdout",
     "output_type": "stream",
     "text": [
      "1 Hello World\n",
      "2 Hello World\n",
      "3 Hello World\n",
      "4 Hello World\n"
     ]
    }
   ],
   "source": [
    "for i in range(1,5):\n",
    "    print (i,\"Hello World\")"
   ]
  },
  {
   "cell_type": "code",
   "execution_count": 10,
   "metadata": {},
   "outputs": [
    {
     "name": "stdout",
     "output_type": "stream",
     "text": [
      "0 Hello World\n",
      "2 Hello World\n",
      "4 Hello World\n"
     ]
    }
   ],
   "source": [
    "for i in range(0,5,2):\n",
    "    print (i,\"Hello World\")"
   ]
  },
  {
   "cell_type": "code",
   "execution_count": 12,
   "metadata": {},
   "outputs": [
    {
     "name": "stdout",
     "output_type": "stream",
     "text": [
      "enter a= 12\n",
      "12\n",
      "enter a= 34\n",
      "46\n",
      "enter a= 56\n",
      "102\n",
      "enter a= 34\n",
      "136\n",
      "enter a= 5\n",
      "141\n",
      "141\n"
     ]
    }
   ],
   "source": [
    "b=0\n",
    "for i in range(5):\n",
    "    a=int(input(\"enter a= \"))\n",
    "    b = b+a\n",
    "    print (b)\n",
    "print (b)"
   ]
  },
  {
   "cell_type": "markdown",
   "metadata": {},
   "source": [
    "b=0\n",
    "n=int(input(\"enter n=\"\n",
    "for i in range(5):\n",
    "    a=int(input(\"enter a= \"))\n",
    "    b = b+a\n",
    "    print (b)\n",
    "print (b)"
   ]
  },
  {
   "cell_type": "code",
   "execution_count": 13,
   "metadata": {},
   "outputs": [
    {
     "name": "stdout",
     "output_type": "stream",
     "text": [
      "enter n=3\n",
      "enter a= 1\n",
      "1\n",
      "enter a= 2\n",
      "3\n",
      "enter a= 3\n",
      "6\n",
      "6\n"
     ]
    }
   ],
   "source": [
    "b=0\n",
    "n=int(input(\"enter n=\"))\n",
    "for i in range(n):\n",
    "    a=int(input(\"enter a= \"))\n",
    "    b = b+a\n",
    "    print (b)\n",
    "print (b)"
   ]
  },
  {
   "cell_type": "code",
   "execution_count": 15,
   "metadata": {},
   "outputs": [
    {
     "name": "stdout",
     "output_type": "stream",
     "text": [
      "enter n=3\n",
      "enter a= Ram \n",
      "enter a= Shyam \n",
      "enter a= Hari \n",
      "Ram Shyam Hari \n"
     ]
    }
   ],
   "source": [
    "b=\"\"\n",
    "n=int(input(\"enter n=\"))\n",
    "for i in range(n):\n",
    "    a=input(\"enter a= \")\n",
    "    b = b+a\n",
    "print (b)"
   ]
  },
  {
   "cell_type": "code",
   "execution_count": 17,
   "metadata": {},
   "outputs": [
    {
     "name": "stdout",
     "output_type": "stream",
     "text": [
      "enter n= 5\n",
      "5 * 1 = 5\n",
      "5 * 2 = 10\n",
      "5 * 3 = 15\n",
      "5 * 4 = 20\n",
      "5 * 5 = 25\n",
      "5 * 6 = 30\n",
      "5 * 7 = 35\n",
      "5 * 8 = 40\n",
      "5 * 9 = 45\n",
      "5 * 10 = 50\n"
     ]
    }
   ],
   "source": [
    "n=int(input(\"enter n= \"))\n",
    "for i in range(1,11):\n",
    "    print (n,'*',i,'=',n*i)"
   ]
  },
  {
   "cell_type": "code",
   "execution_count": 18,
   "metadata": {},
   "outputs": [
    {
     "name": "stdout",
     "output_type": "stream",
     "text": [
      "enter n= 5\n",
      "5\n",
      "10\n",
      "15\n",
      "20\n",
      "25\n",
      "30\n",
      "35\n",
      "40\n",
      "45\n",
      "50\n"
     ]
    }
   ],
   "source": [
    "n=int(input(\"enter n= \"))\n",
    "for i in range(5,51,5):\n",
    "    print (i)"
   ]
  },
  {
   "cell_type": "code",
   "execution_count": 62,
   "metadata": {},
   "outputs": [
    {
     "name": "stdout",
     "output_type": "stream",
     "text": [
      "enter n= 4\n",
      "1*2*3*4= 24\n"
     ]
    }
   ],
   "source": [
    "#factorial\n",
    "n=int(input(\"enter n= \"))\n",
    "f=1\n",
    "a=\"\"\n",
    "for i in range(1,n+1):\n",
    "    f=f*i\n",
    "    a=str(i)\n",
    "    print (a, end=\"\")\n",
    "    if i!=n:\n",
    "        print (\"*\",end=\"\")\n",
    "print (\"=\",f)"
   ]
  },
  {
   "cell_type": "code",
   "execution_count": 24,
   "metadata": {},
   "outputs": [],
   "source": [
    "#assignment fibonnaci series\n",
    "#prime composite"
   ]
  },
  {
   "cell_type": "code",
   "execution_count": 26,
   "metadata": {},
   "outputs": [
    {
     "name": "stdout",
     "output_type": "stream",
     "text": [
      "*\n",
      "**\n",
      "***\n",
      "****\n",
      "*****\n",
      "******\n",
      "*******\n",
      "********\n",
      "*********\n"
     ]
    }
   ],
   "source": [
    "a=1\n",
    "for i in range(1,10):\n",
    "    print(i*\"*\")"
   ]
  },
  {
   "cell_type": "code",
   "execution_count": 32,
   "metadata": {},
   "outputs": [
    {
     "name": "stdout",
     "output_type": "stream",
     "text": [
      "**********\n",
      "********\n",
      "******\n",
      "****\n",
      "**\n",
      "*\n"
     ]
    }
   ],
   "source": [
    "a=1\n",
    "for i in range(10,0,-2):\n",
    "    print(i*\"*\")\n",
    "print(\"*\")"
   ]
  },
  {
   "cell_type": "code",
   "execution_count": 48,
   "metadata": {},
   "outputs": [
    {
     "name": "stdout",
     "output_type": "stream",
     "text": [
      "Hello World"
     ]
    }
   ],
   "source": [
    "a=\"Hello World\"\n",
    "for i in a:\n",
    "    print (i,end=\"\")"
   ]
  },
  {
   "cell_type": "code",
   "execution_count": 42,
   "metadata": {},
   "outputs": [
    {
     "name": "stdout",
     "output_type": "stream",
     "text": [
      "H\n",
      "e\n",
      "l\n",
      "l\n",
      "o\n",
      " \n",
      "W\n",
      "o\n",
      "r\n",
      "l\n",
      "d\n"
     ]
    }
   ],
   "source": [
    "a=\"Hello World\"\n",
    "for i in range(0,len(a)):\n",
    "    print (a[i])"
   ]
  },
  {
   "cell_type": "code",
   "execution_count": 50,
   "metadata": {},
   "outputs": [
    {
     "name": "stdout",
     "output_type": "stream",
     "text": [
      "0 Hello World\n",
      "1 Hello World\n",
      "2 Hello World\n",
      "3 Hello World\n",
      "4 Hello World\n",
      "5 Hello World\n",
      "6 Hello World\n",
      "7 Hello World\n",
      "8 Hello World\n",
      "9 Hello World\n"
     ]
    }
   ],
   "source": [
    "#while loop\n",
    "a=0\n",
    "while a<10:\n",
    "    print (a,\"Hello World\")\n",
    "    a=a+1\n",
    "#   a+=1"
   ]
  },
  {
   "cell_type": "code",
   "execution_count": 52,
   "metadata": {},
   "outputs": [
    {
     "name": "stdout",
     "output_type": "stream",
     "text": [
      "10 Hello World\n",
      "9 Hello World\n",
      "8 Hello World\n",
      "7 Hello World\n",
      "6 Hello World\n",
      "5 Hello World\n",
      "4 Hello World\n",
      "3 Hello World\n",
      "2 Hello World\n",
      "1 Hello World\n"
     ]
    }
   ],
   "source": [
    "a=10\n",
    "while a>0:\n",
    "    print (a,\"Hello World\")\n",
    "    a=a-1"
   ]
  },
  {
   "cell_type": "code",
   "execution_count": 53,
   "metadata": {},
   "outputs": [
    {
     "name": "stdout",
     "output_type": "stream",
     "text": [
      "enter a= 2\n",
      "enter a= 5\n",
      "enter a= 3\n",
      "enter a= 1\n",
      "enter a= 6\n",
      "17\n"
     ]
    }
   ],
   "source": [
    "b=0\n",
    "n=0\n",
    "while n<5:\n",
    "    a=int(input(\"enter a= \"))\n",
    "    b = b+a\n",
    "    n=n+1\n",
    "print (b)"
   ]
  },
  {
   "cell_type": "code",
   "execution_count": null,
   "metadata": {},
   "outputs": [],
   "source": []
  }
 ],
 "metadata": {
  "kernelspec": {
   "display_name": "Python 3",
   "language": "python",
   "name": "python3"
  },
  "language_info": {
   "codemirror_mode": {
    "name": "ipython",
    "version": 3
   },
   "file_extension": ".py",
   "mimetype": "text/x-python",
   "name": "python",
   "nbconvert_exporter": "python",
   "pygments_lexer": "ipython3",
   "version": "3.8.3"
  }
 },
 "nbformat": 4,
 "nbformat_minor": 4
}
