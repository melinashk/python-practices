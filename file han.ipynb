{
 "cells": [
  {
   "cell_type": "code",
   "execution_count": 4,
   "metadata": {},
   "outputs": [
    {
     "name": "stdout",
     "output_type": "stream",
     "text": [
      "The file is created.\n"
     ]
    }
   ],
   "source": [
    "try:\n",
    "    b = open('class11am.txt','x')\n",
    "    print(\"The file is created.\")\n",
    "    b.close()\n",
    "except:\n",
    "    print(\"The file is already there.\")"
   ]
  },
  {
   "cell_type": "code",
   "execution_count": 5,
   "metadata": {},
   "outputs": [
    {
     "name": "stdout",
     "output_type": "stream",
     "text": [
      "1.Hello World\n",
      "2.Hello World\n",
      "3.Hello World\n",
      "4.Hello World\n",
      "5.Hello World\n"
     ]
    }
   ],
   "source": [
    "b = open('class11am.txt','r')\n",
    "print(b.read())\n",
    "b.close()"
   ]
  },
  {
   "cell_type": "code",
   "execution_count": 6,
   "metadata": {},
   "outputs": [
    {
     "name": "stdout",
     "output_type": "stream",
     "text": [
      "<class 'str'>\n"
     ]
    }
   ],
   "source": [
    "b = open('class11am.txt','r')\n",
    "c = b.read()\n",
    "print(type(c))\n",
    "b.close()"
   ]
  },
  {
   "cell_type": "code",
   "execution_count": 11,
   "metadata": {},
   "outputs": [
    {
     "name": "stdout",
     "output_type": "stream",
     "text": [
      "1.Hello World\n",
      "\n",
      "2.Hello World\n",
      "\n"
     ]
    }
   ],
   "source": [
    "b = open('class11am.txt','r')\n",
    "print(b.readline())\n",
    "print(b.readline())\n",
    "b.close()"
   ]
  },
  {
   "cell_type": "code",
   "execution_count": 27,
   "metadata": {},
   "outputs": [
    {
     "name": "stdout",
     "output_type": "stream",
     "text": [
      "Enter no of line = 1\n",
      "1.Hello World\n",
      "\n"
     ]
    }
   ],
   "source": [
    "b = open('class11am.txt','r')\n",
    "n = int(input(\"Enter no of line = \"))\n",
    "\n",
    "if n == 1:\n",
    "    print(b.readline())\n",
    "else:    \n",
    "    for i in range(1,6):\n",
    "        b.readline()\n",
    "        if i == n-1:\n",
    "            print(b.readline())\n",
    "\n",
    "b.close()"
   ]
  },
  {
   "cell_type": "code",
   "execution_count": 1,
   "metadata": {},
   "outputs": [],
   "source": [
    "b = open('class11am.txt','a')\n",
    "b.write('\\n6.Hello World')\n",
    "b.close()"
   ]
  },
  {
   "cell_type": "code",
   "execution_count": 2,
   "metadata": {},
   "outputs": [
    {
     "name": "stdout",
     "output_type": "stream",
     "text": [
      "1.Hello World\n",
      "2.Hello World\n",
      "3.Hello World\n",
      "4.Hello World\n",
      "5.Hello World\n",
      "6.Hello World\n"
     ]
    }
   ],
   "source": [
    "b = open('class11am.txt','r')\n",
    "print(b.read())\n",
    "b.close()"
   ]
  },
  {
   "cell_type": "code",
   "execution_count": 2,
   "metadata": {},
   "outputs": [
    {
     "name": "stdout",
     "output_type": "stream",
     "text": [
      "Enter n = 2\n",
      "Enter name = Ram\n",
      "Enter age = 56\n",
      "Enter address = Kathmandu\n",
      "Enter name = Shyam\n",
      "Enter age = 45\n",
      "Enter address = Patan\n"
     ]
    }
   ],
   "source": [
    "b = open('data.txt','a')\n",
    "infos = \"\"\n",
    "n = int(input(\"Enter n = \"))\n",
    "for i in range(n):\n",
    "    name = input(\"Enter name = \")\n",
    "    age = int(input(\"Enter age = \"))\n",
    "    add = input(\"Enter address = \")\n",
    "    info = f\"{name} {age} {add}\\n\"\n",
    "    infos = infos+info\n",
    "b.write(infos)\n",
    "b.close()"
   ]
  },
  {
   "cell_type": "code",
   "execution_count": 3,
   "metadata": {},
   "outputs": [
    {
     "name": "stdout",
     "output_type": "stream",
     "text": [
      "Ram 56 Kathmandu\n",
      "Shyam 45 Patan\n",
      "\n"
     ]
    }
   ],
   "source": [
    "b = open('data.txt','r')\n",
    "print(b.read())\n",
    "b.close()"
   ]
  },
  {
   "cell_type": "code",
   "execution_count": 4,
   "metadata": {},
   "outputs": [
    {
     "name": "stdout",
     "output_type": "stream",
     "text": [
      "RamHari 55 Kathmandu\n",
      "Shyam 45 Patan\n",
      "\n"
     ]
    }
   ],
   "source": [
    "b = open('data.txt','r')\n",
    "c = b.read()\n",
    "d = c.replace('Ram 56 Kathmandu','RamHari 55 Kathmandu')\n",
    "b.close()"
   ]
  },
  {
   "cell_type": "code",
   "execution_count": 5,
   "metadata": {},
   "outputs": [],
   "source": [
    "b = open('data.txt','w')\n",
    "b.write(d)\n",
    "b.close()"
   ]
  },
  {
   "cell_type": "code",
   "execution_count": 6,
   "metadata": {},
   "outputs": [
    {
     "name": "stdout",
     "output_type": "stream",
     "text": [
      "RamHari 55 Kathmandu\n",
      "Shyam 45 Patan\n",
      "\n"
     ]
    }
   ],
   "source": [
    "b = open('data.txt','r')\n",
    "c = b.read()\n",
    "print(c)\n",
    "b.close()"
   ]
  },
  {
   "cell_type": "code",
   "execution_count": 7,
   "metadata": {},
   "outputs": [
    {
     "name": "stdout",
     "output_type": "stream",
     "text": [
      "\n",
      "Shyam 45 Patan\n",
      "\n"
     ]
    }
   ],
   "source": [
    "b = open('data.txt','r')\n",
    "c = b.read()\n",
    "d = c.replace('RamHari 55 Kathmandu','')\n",
    "print(d)\n",
    "b.close()"
   ]
  },
  {
   "cell_type": "code",
   "execution_count": 8,
   "metadata": {},
   "outputs": [],
   "source": [
    "b = open('data.txt','w')\n",
    "b.write(d)\n",
    "b.close()"
   ]
  },
  {
   "cell_type": "code",
   "execution_count": 9,
   "metadata": {},
   "outputs": [
    {
     "name": "stdout",
     "output_type": "stream",
     "text": [
      "Shyam 45 Patan\n",
      "Ram 67 Kathmandu\n",
      "Hari 89 USA\n",
      "Nabin 78 Pakistan\n",
      "\n"
     ]
    }
   ],
   "source": [
    "b = open('data.txt','r')\n",
    "c = b.read()\n",
    "print(c)\n",
    "b.close()"
   ]
  },
  {
   "cell_type": "code",
   "execution_count": 11,
   "metadata": {},
   "outputs": [
    {
     "name": "stdout",
     "output_type": "stream",
     "text": [
      "Yes 1\n"
     ]
    }
   ],
   "source": [
    "if 'Ram' in c:\n",
    "    print(\"Yes\",c.count('Ram'))"
   ]
  },
  {
   "cell_type": "code",
   "execution_count": 12,
   "metadata": {},
   "outputs": [
    {
     "name": "stdout",
     "output_type": "stream",
     "text": [
      "Enter how many rows = 2\n",
      "Enter name=Ran\n",
      "Enter Marks89\n",
      "Enter Marks78\n",
      "Enter Marks90\n",
      "Enter Marks78\n",
      "Enter Marks98\n",
      "Enter name=Shyam\n",
      "Enter Marks78\n",
      "Enter Marks90\n",
      "Enter Marks67\n",
      "Enter Marks89\n",
      "Enter Marks98\n",
      "Ran 89 78 90 78 98 433 86.6\n",
      "Shyam 78 90 67 89 98 422 84.4\n",
      "\n"
     ]
    }
   ],
   "source": [
    "b = open('data1.txt','a')\n",
    "infos = \"\"\n",
    "n = int(input(\"Enter how many rows = \"))\n",
    "for i in range(n):\n",
    "    name = input(\"Enter name=\")\n",
    "    physics = int(input(\"Enter Marks\"))\n",
    "    chemistry = int(input(\"Enter Marks\"))\n",
    "    Math = int(input(\"Enter Marks\"))\n",
    "    English = int(input(\"Enter Marks\"))\n",
    "    Nepali = int(input(\"Enter Marks\"))\n",
    "    \n",
    "    total =  physics+chemistry+Math+English+Nepali\n",
    "    per = total/5\n",
    "    \n",
    "    \n",
    "    info = f\"{name} {physics} {chemistry} {Math} {English} {Nepali} {total} {per}\\n\"\n",
    "    infos = infos+info\n",
    "b.write(infos)\n",
    "b.close()\n",
    "print(infos)"
   ]
  },
  {
   "cell_type": "code",
   "execution_count": 17,
   "metadata": {},
   "outputs": [],
   "source": [
    "list_data = infos.split('\\n')\n",
    "list_data = list_data[0:2]"
   ]
  },
  {
   "cell_type": "code",
   "execution_count": 19,
   "metadata": {},
   "outputs": [
    {
     "name": "stdout",
     "output_type": "stream",
     "text": [
      "['Ran', '89', '78', '90', '78', '98', '433', '86.6']\n",
      "['Shyam', '78', '90', '67', '89', '98', '422', '84.4']\n",
      "[['Ran', '89', '78', '90', '78', '98', '433', '86.6'], ['Shyam', '78', '90', '67', '89', '98', '422', '84.4']]\n"
     ]
    }
   ],
   "source": [
    "new = []\n",
    "for i in list_data:\n",
    "    j = i.split()\n",
    "    print(j)\n",
    "    new.append(j)\n",
    "print(new)"
   ]
  },
  {
   "cell_type": "code",
   "execution_count": 22,
   "metadata": {},
   "outputs": [
    {
     "data": {
      "text/plain": [
       "'Untitled Folder/data.txt'"
      ]
     },
     "execution_count": 22,
     "metadata": {},
     "output_type": "execute_result"
    }
   ],
   "source": [
    "# copy\n",
    "import shutil\n",
    "src = 'data.txt'\n",
    "dst = 'Untitled Folder/'\n",
    "shutil.copy(src,dst)"
   ]
  },
  {
   "cell_type": "code",
   "execution_count": 23,
   "metadata": {},
   "outputs": [],
   "source": [
    "import os\n",
    "src = 'Untitled Folder/data.txt'\n",
    "os.remove(src)"
   ]
  },
  {
   "cell_type": "code",
   "execution_count": 25,
   "metadata": {},
   "outputs": [
    {
     "name": "stdout",
     "output_type": "stream",
     "text": [
      "The file is not there.\n"
     ]
    }
   ],
   "source": [
    "import os\n",
    "if os.path.exists('data1.txt'):\n",
    "    os.remove('data1.txt')\n",
    "    print(\"The file is removed.\")\n",
    "else:\n",
    "    print(\"The file is not there.\")"
   ]
  },
  {
   "cell_type": "code",
   "execution_count": 28,
   "metadata": {},
   "outputs": [
    {
     "name": "stdout",
     "output_type": "stream",
     "text": [
      "The files are already there.\n"
     ]
    }
   ],
   "source": [
    "# copy\n",
    "import shutil\n",
    "try:\n",
    "    src = 'Untitled Folder/'\n",
    "    dst = 'Untitled Folder1/'\n",
    "    shutil.copytree(src,dst)\n",
    "    print(\"The files are copied\")\n",
    "except:\n",
    "    print(\"The files are already there.\")"
   ]
  },
  {
   "cell_type": "code",
   "execution_count": 31,
   "metadata": {},
   "outputs": [
    {
     "name": "stdout",
     "output_type": "stream",
     "text": [
      "The files are moved\n"
     ]
    }
   ],
   "source": [
    "# move\n",
    "import shutil\n",
    "try:\n",
    "    src = 'Untitled Folder1/'\n",
    "    dst = 'Untitled Folder2/'\n",
    "    shutil.move(src,dst)\n",
    "    print(\"The files are moved\")\n",
    "except:\n",
    "    print(\"The files are already there.\")"
   ]
  },
  {
   "cell_type": "code",
   "execution_count": 32,
   "metadata": {},
   "outputs": [],
   "source": [
    "import os\n",
    "os.rename('Untitled Folder2','folder')"
   ]
  },
  {
   "cell_type": "code",
   "execution_count": null,
   "metadata": {},
   "outputs": [],
   "source": []
  }
 ],
 "metadata": {
  "kernelspec": {
   "display_name": "Python 3",
   "language": "python",
   "name": "python3"
  },
  "language_info": {
   "codemirror_mode": {
    "name": "ipython",
    "version": 3
   },
   "file_extension": ".py",
   "mimetype": "text/x-python",
   "name": "python",
   "nbconvert_exporter": "python",
   "pygments_lexer": "ipython3",
   "version": "3.7.1"
  }
 },
 "nbformat": 4,
 "nbformat_minor": 2
}
