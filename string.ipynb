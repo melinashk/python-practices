{
 "cells": [
  {
   "cell_type": "code",
   "execution_count": 1,
   "metadata": {},
   "outputs": [
    {
     "data": {
      "text/plain": [
       "str"
      ]
     },
     "execution_count": 1,
     "metadata": {},
     "output_type": "execute_result"
    }
   ],
   "source": [
    "a =\"Hello World\"\n",
    "type(a)"
   ]
  },
  {
   "cell_type": "code",
   "execution_count": 2,
   "metadata": {},
   "outputs": [
    {
     "name": "stdout",
     "output_type": "stream",
     "text": [
      "Enter your name = Ram\n"
     ]
    },
    {
     "data": {
      "text/plain": [
       "str"
      ]
     },
     "execution_count": 2,
     "metadata": {},
     "output_type": "execute_result"
    }
   ],
   "source": [
    "name = input(\"Enter your name = \")\n",
    "type(name)"
   ]
  },
  {
   "cell_type": "code",
   "execution_count": 5,
   "metadata": {},
   "outputs": [
    {
     "name": "stdout",
     "output_type": "stream",
     "text": [
      "d\n"
     ]
    }
   ],
   "source": [
    "a =\"Hello World\"\n",
    "print(a[-1])"
   ]
  },
  {
   "cell_type": "code",
   "execution_count": 6,
   "metadata": {},
   "outputs": [
    {
     "name": "stdout",
     "output_type": "stream",
     "text": [
      "Hello \n"
     ]
    }
   ],
   "source": [
    "a =\"Hello World\"\n",
    "print(a[0:6])"
   ]
  },
  {
   "cell_type": "code",
   "execution_count": 7,
   "metadata": {},
   "outputs": [
    {
     "name": "stdout",
     "output_type": "stream",
     "text": [
      "Hlo\n"
     ]
    }
   ],
   "source": [
    "a =\"Hello World\"\n",
    "print(a[0:6:2])"
   ]
  },
  {
   "cell_type": "code",
   "execution_count": 8,
   "metadata": {},
   "outputs": [
    {
     "name": "stdout",
     "output_type": "stream",
     "text": [
      "Hello \n",
      "World\n"
     ]
    }
   ],
   "source": [
    "a =\"Hello World\"\n",
    "print(a[:6])\n",
    "print(a[6:])"
   ]
  },
  {
   "cell_type": "code",
   "execution_count": 9,
   "metadata": {},
   "outputs": [
    {
     "data": {
      "text/plain": [
       "'Hello World'"
      ]
     },
     "execution_count": 9,
     "metadata": {},
     "output_type": "execute_result"
    }
   ],
   "source": [
    "a = \"Hello \"\n",
    "b = \"World\"\n",
    "a+b"
   ]
  },
  {
   "cell_type": "code",
   "execution_count": 11,
   "metadata": {},
   "outputs": [
    {
     "data": {
      "text/plain": [
       "'Hello World1'"
      ]
     },
     "execution_count": 11,
     "metadata": {},
     "output_type": "execute_result"
    }
   ],
   "source": [
    "a = \"Hello \"\n",
    "b = \"World\"\n",
    "c = 1\n",
    "\n",
    "a+b+str(c)"
   ]
  },
  {
   "cell_type": "code",
   "execution_count": 13,
   "metadata": {},
   "outputs": [
    {
     "name": "stdout",
     "output_type": "stream",
     "text": [
      "Hello world\n",
      "Hello world\n",
      "Hello world\n",
      "\n"
     ]
    }
   ],
   "source": [
    "a = \"Hello world\\n\"\n",
    "print(a*3)"
   ]
  },
  {
   "cell_type": "code",
   "execution_count": 3,
   "metadata": {},
   "outputs": [
    {
     "name": "stdout",
     "output_type": "stream",
     "text": [
      "Enter name = Ram\n",
      "Enter age = 67\n",
      "Enter address = Kathmandu\n",
      "Hello I am Ram.I am from Kathmandu.I am 67.\n"
     ]
    }
   ],
   "source": [
    "# string formatting\n",
    "name = input(\"Enter name = \")\n",
    "age = int(input(\"Enter age = \"))\n",
    "add = input(\"Enter address = \")\n",
    "\n",
    "\n",
    "\n",
    "info = f\"Hello I am {name}.I am from {add}.I am {age}.\"\n",
    "print(info)"
   ]
  },
  {
   "cell_type": "code",
   "execution_count": 4,
   "metadata": {},
   "outputs": [
    {
     "name": "stdout",
     "output_type": "stream",
     "text": [
      "yes\n"
     ]
    }
   ],
   "source": [
    "a = \"Hello I am Ram.I am from Kathmandu.I am 67.\"\n",
    "if \"Kathmandu\" in a:\n",
    "    print(\"yes\")"
   ]
  },
  {
   "cell_type": "code",
   "execution_count": 5,
   "metadata": {},
   "outputs": [
    {
     "name": "stdout",
     "output_type": "stream",
     "text": [
      "Yes\n"
     ]
    }
   ],
   "source": [
    "a  = \"Ram Shyam Hari Sita Gita \"\n",
    "if \"Ram\" in a:\n",
    "    print(\"Yes\")"
   ]
  },
  {
   "cell_type": "code",
   "execution_count": 6,
   "metadata": {},
   "outputs": [
    {
     "data": {
      "text/plain": [
       "1"
      ]
     },
     "execution_count": 6,
     "metadata": {},
     "output_type": "execute_result"
    }
   ],
   "source": [
    "# count()\n",
    "a.count(\"Ram\")"
   ]
  },
  {
   "cell_type": "code",
   "execution_count": 8,
   "metadata": {},
   "outputs": [
    {
     "name": "stdout",
     "output_type": "stream",
     "text": [
      "Yes 2\n"
     ]
    }
   ],
   "source": [
    "a  = \"Ram Shyam Hari Sita Gita Ram\"\n",
    "if \"Ram\" in a:\n",
    "    print(\"Yes\",a.count(\"Ram\"))"
   ]
  },
  {
   "cell_type": "code",
   "execution_count": 9,
   "metadata": {},
   "outputs": [
    {
     "data": {
      "text/plain": [
       "'HELLO WORLD'"
      ]
     },
     "execution_count": 9,
     "metadata": {},
     "output_type": "execute_result"
    }
   ],
   "source": [
    "a = \"Hello World\"\n",
    "a.upper()"
   ]
  },
  {
   "cell_type": "code",
   "execution_count": 10,
   "metadata": {},
   "outputs": [
    {
     "data": {
      "text/plain": [
       "'hello world'"
      ]
     },
     "execution_count": 10,
     "metadata": {},
     "output_type": "execute_result"
    }
   ],
   "source": [
    "a.lower()"
   ]
  },
  {
   "cell_type": "code",
   "execution_count": 14,
   "metadata": {},
   "outputs": [
    {
     "name": "stdout",
     "output_type": "stream",
     "text": [
      "Enter value for search = Ram\n",
      "Yes 2\n"
     ]
    }
   ],
   "source": [
    "a  = \"Ram Shyam Hari Sita Gita Ram\".lower()\n",
    "search = input(\"Enter value for search = \").lower()\n",
    "if search in a:\n",
    "    print(\"Yes\",a.count(search))"
   ]
  },
  {
   "cell_type": "code",
   "execution_count": 15,
   "metadata": {},
   "outputs": [
    {
     "data": {
      "text/plain": [
       "28"
      ]
     },
     "execution_count": 15,
     "metadata": {},
     "output_type": "execute_result"
    }
   ],
   "source": [
    "len(a)"
   ]
  },
  {
   "cell_type": "code",
   "execution_count": 20,
   "metadata": {},
   "outputs": [
    {
     "data": {
      "text/plain": [
       "'Hari-Krishna Shyam Hari Sita Gita Hari-Krishna'"
      ]
     },
     "execution_count": 20,
     "metadata": {},
     "output_type": "execute_result"
    }
   ],
   "source": [
    "a  = \"Ram Shyam Hari Sita Gita Ram\"\n",
    "a.replace('Ram','Hari-Krishna')\n"
   ]
  },
  {
   "cell_type": "code",
   "execution_count": 21,
   "metadata": {},
   "outputs": [
    {
     "data": {
      "text/plain": [
       "'Ram Shyam  Sita Gita Ram'"
      ]
     },
     "execution_count": 21,
     "metadata": {},
     "output_type": "execute_result"
    }
   ],
   "source": [
    "a  = \"Ram Shyam Hari Sita Gita Ram\"\n",
    "a.replace('Hari','')\n"
   ]
  },
  {
   "cell_type": "code",
   "execution_count": 22,
   "metadata": {},
   "outputs": [
    {
     "name": "stdout",
     "output_type": "stream",
     "text": [
      "Enter how many rows = 3\n",
      "Enter name=Ram\n",
      "Enter age = 56\n",
      "Enter address = Patan\n",
      "Enter name=Shyam\n",
      "Enter age = 45\n",
      "Enter address = Kathmandu\n",
      "Enter name=Sita\n",
      "Enter age = 45\n",
      "Enter address = Bhaktapur\n",
      "Ram 56 Patan\n",
      "Shyam 45 Kathmandu\n",
      "Sita 45 Bhaktapur\n",
      "\n"
     ]
    }
   ],
   "source": [
    "infos = \"\"\n",
    "n = int(input(\"Enter how many rows = \"))\n",
    "for i in range(n):\n",
    "    name = input(\"Enter name=\")\n",
    "    age = input(\"Enter age = \")\n",
    "    add = input(\"Enter address = \")\n",
    "    \n",
    "    info = f\"{name} {age} {add}\\n\"\n",
    "    infos = infos+info\n",
    "    \n",
    "print(infos)"
   ]
  },
  {
   "cell_type": "code",
   "execution_count": 24,
   "metadata": {},
   "outputs": [
    {
     "name": "stdout",
     "output_type": "stream",
     "text": [
      "Ram 56 Patan\n",
      "Shyam 45 Kathmandu\n",
      "Sita 45 Bhaktapur\n",
      "\n"
     ]
    }
   ],
   "source": [
    "print(infos)"
   ]
  },
  {
   "cell_type": "code",
   "execution_count": 49,
   "metadata": {},
   "outputs": [
    {
     "name": "stdout",
     "output_type": "stream",
     "text": [
      "Ram 56 Patan\n",
      "Shyam 45 Kathmandu\n",
      "Sita 45 Bhaktapur\n"
     ]
    }
   ],
   "source": [
    "infos = \"Ram 56 Patan\\nShyam 45 Kathmandu\\nSita 45 Bhaktapur\"\n",
    "print(infos)"
   ]
  },
  {
   "cell_type": "code",
   "execution_count": 50,
   "metadata": {},
   "outputs": [
    {
     "name": "stdout",
     "output_type": "stream",
     "text": [
      "Ram-Prasad 56 Patan\n",
      "Shyam 45 Kathmandu\n",
      "Sita 45 Bhaktapur\n"
     ]
    }
   ],
   "source": [
    "print(infos.replace('Ram','Ram-Prasad'))"
   ]
  },
  {
   "cell_type": "code",
   "execution_count": 51,
   "metadata": {},
   "outputs": [
    {
     "name": "stdout",
     "output_type": "stream",
     "text": [
      "Ram 56 Patan\n",
      "Shyam 45 Kathmandu\n",
      "Sita 45 Bhaktapur\n"
     ]
    }
   ],
   "source": [
    "print(infos)"
   ]
  },
  {
   "cell_type": "code",
   "execution_count": 47,
   "metadata": {},
   "outputs": [],
   "source": [
    "infos = infos.replace('Ram','Ram-Prasad')"
   ]
  },
  {
   "cell_type": "code",
   "execution_count": 48,
   "metadata": {},
   "outputs": [
    {
     "name": "stdout",
     "output_type": "stream",
     "text": [
      "Ram-Prasad 56 Patan\n",
      "Shyam 45 Kathmandu\n",
      "Sita 45 Bhaktapur\n"
     ]
    }
   ],
   "source": [
    "print(infos)"
   ]
  },
  {
   "cell_type": "code",
   "execution_count": 30,
   "metadata": {},
   "outputs": [
    {
     "name": "stdout",
     "output_type": "stream",
     "text": [
      "Ram 56 Patan\n",
      "Shyam 45 Kathmandu\n",
      "Sita 45 Bhaktapur\n",
      "Ram 67 Bara\n"
     ]
    }
   ],
   "source": [
    "a = \"Ram 56 Patan\\nShyam 45 Kathmandu\\nSita 45 Bhaktapur\\nRam 67 Bara\"\n",
    "print(a)"
   ]
  },
  {
   "cell_type": "code",
   "execution_count": 32,
   "metadata": {},
   "outputs": [
    {
     "name": "stdout",
     "output_type": "stream",
     "text": [
      "Ram-Prasad 56 Patan\n",
      "Shyam 45 Kathmandu\n",
      "Sita 45 Bhaktapur\n",
      "Ram 67 Bara\n"
     ]
    }
   ],
   "source": [
    "print(a.replace('Ram 56','Ram-Prasad 56'))"
   ]
  },
  {
   "cell_type": "code",
   "execution_count": 33,
   "metadata": {},
   "outputs": [
    {
     "data": {
      "text/plain": [
       "['Ram', 'Shyam', 'Hari', 'Sita', 'Gita', 'Ram']"
      ]
     },
     "execution_count": 33,
     "metadata": {},
     "output_type": "execute_result"
    }
   ],
   "source": [
    "# split()\n",
    "a  = \"Ram Shyam Hari Sita Gita Ram\"\n",
    "a.split()"
   ]
  },
  {
   "cell_type": "code",
   "execution_count": 35,
   "metadata": {},
   "outputs": [
    {
     "data": {
      "text/plain": [
       "['Ram', 'Shyam', 'Hari', 'Sita', 'Gita', 'Ram']"
      ]
     },
     "execution_count": 35,
     "metadata": {},
     "output_type": "execute_result"
    }
   ],
   "source": [
    "# split()\n",
    "a  = \"Ram_Shyam_Hari_Sita_Gita_Ram\"\n",
    "a.split('_')"
   ]
  },
  {
   "cell_type": "code",
   "execution_count": 38,
   "metadata": {},
   "outputs": [
    {
     "name": "stdout",
     "output_type": "stream",
     "text": [
      "Enter how many rows = 2\n",
      "Enter name=Ram\n",
      "Enter Marks67\n",
      "Enter Marks89\n",
      "Enter Marks67\n",
      "Enter Marks89\n",
      "Enter Marks67\n",
      "Enter name=Shyam\n",
      "Enter Marks67\n",
      "Enter Marks90\n",
      "Enter Marks56\n",
      "Enter Marks45\n",
      "Enter Marks90\n",
      "Ram 67 89 67 89 67 379 75.8\n",
      "Shyam 67 90 56 45 90 348 69.6\n",
      "\n"
     ]
    }
   ],
   "source": [
    "infos = \"\"\n",
    "n = int(input(\"Enter how many rows = \"))\n",
    "for i in range(n):\n",
    "    name = input(\"Enter name=\")\n",
    "    physics = int(input(\"Enter Marks\"))\n",
    "    chemistry = int(input(\"Enter Marks\"))\n",
    "    Math = int(input(\"Enter Marks\"))\n",
    "    English = int(input(\"Enter Marks\"))\n",
    "    Nepali = int(input(\"Enter Marks\"))\n",
    "    \n",
    "    total =  physics+chemistry+Math+English+Nepali\n",
    "    per = total/5\n",
    "    \n",
    "    \n",
    "    info = f\"{name} {physics} {chemistry} {Math} {English} {Nepali} {total} {per}\\n\"\n",
    "    infos = infos+info\n",
    "    \n",
    "print(infos)"
   ]
  },
  {
   "cell_type": "markdown",
   "metadata": {},
   "source": [
    "infos.split('\\n)"
   ]
  },
  {
   "cell_type": "code",
   "execution_count": null,
   "metadata": {},
   "outputs": [],
   "source": []
  },
  {
   "cell_type": "code",
   "execution_count": 40,
   "metadata": {},
   "outputs": [
    {
     "data": {
      "text/plain": [
       "['Ram 67 89 67 89 67 379 75.8', 'Shyam 67 90 56 45 90 348 69.6', '']"
      ]
     },
     "execution_count": 40,
     "metadata": {},
     "output_type": "execute_result"
    }
   ],
   "source": [
    "infos.split('\\n')"
   ]
  },
  {
   "cell_type": "code",
   "execution_count": null,
   "metadata": {},
   "outputs": [],
   "source": []
  }
 ],
 "metadata": {
  "kernelspec": {
   "display_name": "Python 3",
   "language": "python",
   "name": "python3"
  },
  "language_info": {
   "codemirror_mode": {
    "name": "ipython",
    "version": 3
   },
   "file_extension": ".py",
   "mimetype": "text/x-python",
   "name": "python",
   "nbconvert_exporter": "python",
   "pygments_lexer": "ipython3",
   "version": "3.5.5"
  }
 },
 "nbformat": 4,
 "nbformat_minor": 2
}
