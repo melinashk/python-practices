{
 "cells": [
  {
   "cell_type": "code",
   "execution_count": 15,
   "metadata": {},
   "outputs": [
    {
     "name": "stdout",
     "output_type": "stream",
     "text": [
      "Hello, welcome John from USA to  Nepal\n"
     ]
    }
   ],
   "source": [
    "class Profile:\n",
    "  def __init__(self, name, address):\n",
    "    self.name = name\n",
    "    self.address = address\n",
    "\n",
    "  def info(self):\n",
    "    print(self.name, self.address)\n",
    "\n",
    "class Student(Profile):\n",
    "  def __init__(self, name, address, country):\n",
    "    Profile.__init__(self, name, address)\n",
    "    self.country = country\n",
    "\n",
    "  def hello(self):\n",
    "    print(\"Hello, welcome\", self.name,\"from\", self.address, \"to \", self.country)\n",
    "\n",
    "x = Student(\"John\", \"USA\", \"Nepal\")\n",
    "x.hello()\n",
    "\n"
   ]
  },
  {
   "cell_type": "code",
   "execution_count": 2,
   "metadata": {},
   "outputs": [
    {
     "name": "stdout",
     "output_type": "stream",
     "text": [
      "This is class C\n",
      "This is class B\n",
      "This is class A\n"
     ]
    }
   ],
   "source": [
    "class A:  \n",
    "    def methodA(self):  \n",
    "        print(\"This is class A\")  \n",
    "        \n",
    "class B(A):  \n",
    "    def methodB(self):  \n",
    "        print(\"This is class B\") \n",
    "        \n",
    "class C(B):  \n",
    "    def methodC(self):  \n",
    "        print(\"This is class C\") \n",
    "z = C()\n",
    "z.methodC()\n",
    "z.methodB()\n",
    "z.methodA()\n"
   ]
  },
  {
   "cell_type": "code",
   "execution_count": 3,
   "metadata": {},
   "outputs": [
    {
     "name": "stdout",
     "output_type": "stream",
     "text": [
      "This is class A\n",
      "This is class B\n",
      "This is class C\n"
     ]
    }
   ],
   "source": [
    "class A:  \n",
    "    print(\"This is class A\")  \n",
    "        \n",
    "class B(A):   \n",
    "    print(\"This is class B\") \n",
    "        \n",
    "class C(B):  \n",
    "    print(\"This is class C\") \n",
    "z = C()\n",
    "\n"
   ]
  },
  {
   "cell_type": "code",
   "execution_count": 5,
   "metadata": {},
   "outputs": [
    {
     "name": "stdout",
     "output_type": "stream",
     "text": [
      "This is class C\n",
      "This is class B\n",
      "This is class A\n"
     ]
    }
   ],
   "source": [
    "class A:  \n",
    "    def methodA(self):  \n",
    "        print(\"This is class A\")  \n",
    "        \n",
    "class B:  \n",
    "    def methodB(self):  \n",
    "        print(\"This is class B\") \n",
    "        \n",
    "class C(A,B):  \n",
    "    def methodC(self):  \n",
    "        print(\"This is class C\")\n",
    "a = A()\n",
    "b = B()\n",
    "z = C()\n",
    "z.methodC()\n",
    "z.methodB()\n",
    "z.methodA()\n"
   ]
  },
  {
   "cell_type": "code",
   "execution_count": 12,
   "metadata": {},
   "outputs": [
    {
     "name": "stdout",
     "output_type": "stream",
     "text": [
      "This is class C Shyam 90\n",
      "This is class B 90\n",
      "This is class A Shyam\n",
      "This is class A Ram\n"
     ]
    }
   ],
   "source": [
    "class A:\n",
    "    def __init__(self,name):\n",
    "        self.name = name\n",
    "    def methodA(self):  \n",
    "        print(\"This is class A\",self.name)  \n",
    "        \n",
    "class B:\n",
    "    def __init__(self,age):\n",
    "        self.age = age\n",
    "    def methodB(self):  \n",
    "        print(\"This is class B\",self.age) \n",
    "        \n",
    "class C(A,B):\n",
    "    def __init__(self,name,age):\n",
    "        A.__init__(self,name)\n",
    "        B. __init__(self,age)\n",
    "        \n",
    "    def methodC(self):  \n",
    "        print(\"This is class C\",self.name,self.age)\n",
    "a = A('Ram')\n",
    "b = B('80')\n",
    "z = C('Shyam',90)\n",
    "z.methodC()\n",
    "z.methodB()\n",
    "z.methodA()\n",
    "a.methodA()"
   ]
  },
  {
   "cell_type": "code",
   "execution_count": 14,
   "metadata": {},
   "outputs": [
    {
     "name": "stdout",
     "output_type": "stream",
     "text": [
      "This is class C Shyam 90 9878776543\n",
      "This is class B 90\n",
      "This is class A Shyam\n",
      "This is class A Ram\n"
     ]
    }
   ],
   "source": [
    "class A:\n",
    "    def __init__(self,name):\n",
    "        self.name = name\n",
    "    def methodA(self):  \n",
    "        print(\"This is class A\",self.name)  \n",
    "        \n",
    "class B:\n",
    "    def __init__(self,age):\n",
    "        self.age = age\n",
    "    def methodB(self):  \n",
    "        print(\"This is class B\",self.age) \n",
    "        \n",
    "class C(A,B):\n",
    "    def __init__(self,name,age,phone):\n",
    "        A.__init__(self,name)\n",
    "        B.__init__(self,age)\n",
    "        self.phone = phone\n",
    "    def methodC(self):  \n",
    "        print(\"This is class C\",self.name,self.age,self.phone)\n",
    "a = A('Ram')\n",
    "b = B('80')\n",
    "z = C('Shyam',90,9878776543)\n",
    "z.methodC()\n",
    "z.methodB()\n",
    "z.methodA()\n",
    "a.methodA()"
   ]
  },
  {
   "cell_type": "code",
   "execution_count": 16,
   "metadata": {},
   "outputs": [
    {
     "name": "stdout",
     "output_type": "stream",
     "text": [
      "Hello, welcome John from USA to  Nepal\n"
     ]
    },
    {
     "data": {
      "text/plain": [
       "'John'"
      ]
     },
     "execution_count": 16,
     "metadata": {},
     "output_type": "execute_result"
    }
   ],
   "source": [
    "class Profile:\n",
    "  def __init__(self, name, address):\n",
    "    self.name = name\n",
    "    self.address = address\n",
    "\n",
    "  def info(self):\n",
    "    print(self.name, self.address)\n",
    "\n",
    "class Student(Profile):\n",
    "  def __init__(self, name, address, country):\n",
    "    Profile.__init__(self, name, address)\n",
    "    self.country = country\n",
    "\n",
    "  def hello(self):\n",
    "    print(\"Hello, welcome\", self.name,\"from\", self.address, \"to \", self.country)\n",
    "\n",
    "x = Student(\"John\", \"USA\", \"Nepal\")\n",
    "x.hello()\n",
    "\n",
    "x.name"
   ]
  },
  {
   "cell_type": "code",
   "execution_count": 17,
   "metadata": {},
   "outputs": [
    {
     "name": "stdout",
     "output_type": "stream",
     "text": [
      "Ram\n",
      "78\n"
     ]
    }
   ],
   "source": [
    "# Public attributes\n",
    "class Info:\n",
    "    def __init__(self,name,age):\n",
    "        self.name = name\n",
    "        self.age = age\n",
    "\n",
    "x = Info('Ram',78)\n",
    "print(x.name)\n",
    "print(x.age)"
   ]
  },
  {
   "cell_type": "code",
   "execution_count": 21,
   "metadata": {},
   "outputs": [
    {
     "ename": "AttributeError",
     "evalue": "'Info' object has no attribute 'name'",
     "output_type": "error",
     "traceback": [
      "\u001b[1;31m---------------------------------------------------------------------------\u001b[0m",
      "\u001b[1;31mAttributeError\u001b[0m                            Traceback (most recent call last)",
      "\u001b[1;32m<ipython-input-21-bed009b8c469>\u001b[0m in \u001b[0;36m<module>\u001b[1;34m()\u001b[0m\n\u001b[0;32m      6\u001b[0m \u001b[1;33m\u001b[0m\u001b[0m\n\u001b[0;32m      7\u001b[0m \u001b[0mx\u001b[0m \u001b[1;33m=\u001b[0m \u001b[0mInfo\u001b[0m\u001b[1;33m(\u001b[0m\u001b[1;34m'Ram'\u001b[0m\u001b[1;33m,\u001b[0m\u001b[1;36m78\u001b[0m\u001b[1;33m)\u001b[0m\u001b[1;33m\u001b[0m\u001b[0m\n\u001b[1;32m----> 8\u001b[1;33m \u001b[0mprint\u001b[0m\u001b[1;33m(\u001b[0m\u001b[0mx\u001b[0m\u001b[1;33m.\u001b[0m\u001b[0mname\u001b[0m\u001b[1;33m)\u001b[0m\u001b[1;33m\u001b[0m\u001b[0m\n\u001b[0m\u001b[0;32m      9\u001b[0m \u001b[0mprint\u001b[0m\u001b[1;33m(\u001b[0m\u001b[0mx\u001b[0m\u001b[1;33m.\u001b[0m\u001b[0mage\u001b[0m\u001b[1;33m)\u001b[0m\u001b[1;33m\u001b[0m\u001b[0m\n",
      "\u001b[1;31mAttributeError\u001b[0m: 'Info' object has no attribute 'name'"
     ]
    }
   ],
   "source": [
    "# Protected attributes\n",
    "class Info:\n",
    "    def __init__(self,name,age):\n",
    "        self._name = name\n",
    "        self._age = age\n",
    "\n",
    "x = Info('Ram',78)\n",
    "print(x.name)\n",
    "print(x.age)"
   ]
  },
  {
   "cell_type": "code",
   "execution_count": 20,
   "metadata": {},
   "outputs": [
    {
     "ename": "AttributeError",
     "evalue": "'Info' object has no attribute 'name'",
     "output_type": "error",
     "traceback": [
      "\u001b[1;31m---------------------------------------------------------------------------\u001b[0m",
      "\u001b[1;31mAttributeError\u001b[0m                            Traceback (most recent call last)",
      "\u001b[1;32m<ipython-input-20-0b787b95d9b8>\u001b[0m in \u001b[0;36m<module>\u001b[1;34m()\u001b[0m\n\u001b[0;32m      6\u001b[0m \u001b[1;33m\u001b[0m\u001b[0m\n\u001b[0;32m      7\u001b[0m \u001b[0mx\u001b[0m \u001b[1;33m=\u001b[0m \u001b[0mInfo\u001b[0m\u001b[1;33m(\u001b[0m\u001b[1;34m'Ram'\u001b[0m\u001b[1;33m,\u001b[0m\u001b[1;36m78\u001b[0m\u001b[1;33m)\u001b[0m\u001b[1;33m\u001b[0m\u001b[0m\n\u001b[1;32m----> 8\u001b[1;33m \u001b[0mprint\u001b[0m\u001b[1;33m(\u001b[0m\u001b[0mx\u001b[0m\u001b[1;33m.\u001b[0m\u001b[0mname\u001b[0m\u001b[1;33m)\u001b[0m\u001b[1;33m\u001b[0m\u001b[0m\n\u001b[0m\u001b[0;32m      9\u001b[0m \u001b[0mprint\u001b[0m\u001b[1;33m(\u001b[0m\u001b[0mx\u001b[0m\u001b[1;33m.\u001b[0m\u001b[0mage\u001b[0m\u001b[1;33m)\u001b[0m\u001b[1;33m\u001b[0m\u001b[0m\n",
      "\u001b[1;31mAttributeError\u001b[0m: 'Info' object has no attribute 'name'"
     ]
    }
   ],
   "source": [
    "# Private attributes\n",
    "class Info:\n",
    "    def __init__(self,name,age):\n",
    "        self.__name = name\n",
    "        self.__age = age\n",
    "\n",
    "x = Info('Ram',78)\n",
    "print(x.name)\n",
    "print(x.age)"
   ]
  },
  {
   "cell_type": "code",
   "execution_count": 22,
   "metadata": {},
   "outputs": [
    {
     "name": "stdout",
     "output_type": "stream",
     "text": [
      "Ram\n",
      "78\n"
     ]
    }
   ],
   "source": [
    "# Protected attributes\n",
    "class Info:\n",
    "    def __init__(self,name,age):\n",
    "        self._name = name\n",
    "        self._age = age\n",
    "\n",
    "x = Info('Ram',78)\n",
    "print(x._name)\n",
    "print(x._age)"
   ]
  },
  {
   "cell_type": "code",
   "execution_count": 29,
   "metadata": {},
   "outputs": [
    {
     "name": "stdout",
     "output_type": "stream",
     "text": [
      "Ram\n",
      "78\n"
     ]
    }
   ],
   "source": [
    "# Private attributes\n",
    "class Info:\n",
    "    def __init__(self,name,age):\n",
    "        self.__name = name\n",
    "        self.__age = age\n",
    "\n",
    "x = Info('Ram',78)\n",
    "print(x._Info__name)\n",
    "print(x._Info__age)"
   ]
  },
  {
   "cell_type": "code",
   "execution_count": 40,
   "metadata": {},
   "outputs": [
    {
     "name": "stdout",
     "output_type": "stream",
     "text": [
      "Hello, welcome John from USA to  Nepal\n"
     ]
    }
   ],
   "source": [
    "class Profile:\n",
    "  def __init__(self, name, address):\n",
    "    self._name = name\n",
    "    self.__address = address\n",
    "\n",
    "  def info(self):\n",
    "    print(self._name, self.__address)\n",
    "\n",
    "class Student(Profile):\n",
    "  def __init__(self, name, address, country):\n",
    "    Profile.__init__(self, name, address)\n",
    "    self.country = country\n",
    "\n",
    "  def hello(self):\n",
    "    print(\"Hello, welcome\", self._name,\"from\", self._Profile__address, \"to \", self.country)\n",
    "\n",
    "x = Student(\"John\", \"USA\", \"Nepal\")\n",
    "x.hello()\n",
    "\n"
   ]
  },
  {
   "cell_type": "code",
   "execution_count": null,
   "metadata": {},
   "outputs": [],
   "source": []
  }
 ],
 "metadata": {
  "kernelspec": {
   "display_name": "Python 3",
   "language": "python",
   "name": "python3"
  },
  "language_info": {
   "codemirror_mode": {
    "name": "ipython",
    "version": 3
   },
   "file_extension": ".py",
   "mimetype": "text/x-python",
   "name": "python",
   "nbconvert_exporter": "python",
   "pygments_lexer": "ipython3",
   "version": "3.5.5"
  }
 },
 "nbformat": 4,
 "nbformat_minor": 2
}
