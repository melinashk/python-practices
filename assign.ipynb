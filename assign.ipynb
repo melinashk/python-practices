{
 "cells": [
  {
   "cell_type": "code",
   "execution_count": 1,
   "metadata": {},
   "outputs": [],
   "source": [
    "#1.Billing application for a supermarket with VAT\n",
    "#2.Inventry management system\n",
    "#3.Library management"
   ]
  },
  {
   "cell_type": "code",
   "execution_count": 2,
   "metadata": {},
   "outputs": [],
   "source": [
    "#billing application for a supermarket with VAT\n",
    "b=open('billingsystem.csv','x')"
   ]
  },
  {
   "cell_type": "code",
   "execution_count": 3,
   "metadata": {},
   "outputs": [],
   "source": [
    "b=open('billingsystem.csv','a')\n",
    "b.write(\"Billno,Date,Sn,PName,Price,Quantity,Total\\n\")\n",
    "b.close()"
   ]
  },
  {
   "cell_type": "code",
   "execution_count": 10,
   "metadata": {
    "scrolled": true
   },
   "outputs": [
    {
     "name": "stdout",
     "output_type": "stream",
     "text": [
      "enter no of products = 1\n",
      "enter billno = 103\n",
      "enter date = 2\n",
      "enter sn = 2\n",
      "enter pname = rice\n",
      "enter price = 60\n",
      "enter quantity = 3\n"
     ]
    },
    {
     "data": {
      "text/html": [
       "<div>\n",
       "<style scoped>\n",
       "    .dataframe tbody tr th:only-of-type {\n",
       "        vertical-align: middle;\n",
       "    }\n",
       "\n",
       "    .dataframe tbody tr th {\n",
       "        vertical-align: top;\n",
       "    }\n",
       "\n",
       "    .dataframe thead th {\n",
       "        text-align: right;\n",
       "    }\n",
       "</style>\n",
       "<table border=\"1\" class=\"dataframe\">\n",
       "  <thead>\n",
       "    <tr style=\"text-align: right;\">\n",
       "      <th></th>\n",
       "      <th>Billno</th>\n",
       "      <th>Date</th>\n",
       "      <th>Sn</th>\n",
       "      <th>PName</th>\n",
       "      <th>Price</th>\n",
       "      <th>Quantity</th>\n",
       "      <th>Total</th>\n",
       "    </tr>\n",
       "  </thead>\n",
       "  <tbody>\n",
       "    <tr>\n",
       "      <th>0</th>\n",
       "      <td>101</td>\n",
       "      <td>12/3/2020</td>\n",
       "      <td>1</td>\n",
       "      <td>rice</td>\n",
       "      <td>60</td>\n",
       "      <td>3</td>\n",
       "      <td>180</td>\n",
       "    </tr>\n",
       "    <tr>\n",
       "      <th>1</th>\n",
       "      <td>101</td>\n",
       "      <td>12/3/2020</td>\n",
       "      <td>2</td>\n",
       "      <td>dal</td>\n",
       "      <td>45</td>\n",
       "      <td>4</td>\n",
       "      <td>180</td>\n",
       "    </tr>\n",
       "    <tr>\n",
       "      <th>2</th>\n",
       "      <td>101</td>\n",
       "      <td>12/3/2020</td>\n",
       "      <td>1</td>\n",
       "      <td>rice</td>\n",
       "      <td>50</td>\n",
       "      <td>2</td>\n",
       "      <td>100</td>\n",
       "    </tr>\n",
       "    <tr>\n",
       "      <th>3</th>\n",
       "      <td>101</td>\n",
       "      <td>2</td>\n",
       "      <td>2</td>\n",
       "      <td>dal</td>\n",
       "      <td>40</td>\n",
       "      <td>1</td>\n",
       "      <td>40</td>\n",
       "    </tr>\n",
       "    <tr>\n",
       "      <th>4</th>\n",
       "      <td>102</td>\n",
       "      <td>12/3/2020</td>\n",
       "      <td>1</td>\n",
       "      <td>shamppoo</td>\n",
       "      <td>300</td>\n",
       "      <td>2</td>\n",
       "      <td>600</td>\n",
       "    </tr>\n",
       "    <tr>\n",
       "      <th>5</th>\n",
       "      <td>102</td>\n",
       "      <td>12/3/2020</td>\n",
       "      <td>2</td>\n",
       "      <td>soap</td>\n",
       "      <td>30</td>\n",
       "      <td>4</td>\n",
       "      <td>120</td>\n",
       "    </tr>\n",
       "    <tr>\n",
       "      <th>6</th>\n",
       "      <td>102</td>\n",
       "      <td>12/3/2020</td>\n",
       "      <td>1</td>\n",
       "      <td>rice</td>\n",
       "      <td>35</td>\n",
       "      <td>6</td>\n",
       "      <td>210</td>\n",
       "    </tr>\n",
       "    <tr>\n",
       "      <th>7</th>\n",
       "      <td>103</td>\n",
       "      <td>2</td>\n",
       "      <td>2</td>\n",
       "      <td>rice</td>\n",
       "      <td>60</td>\n",
       "      <td>3</td>\n",
       "      <td>180</td>\n",
       "    </tr>\n",
       "  </tbody>\n",
       "</table>\n",
       "</div>"
      ],
      "text/plain": [
       "   Billno       Date  Sn     PName  Price  Quantity  Total\n",
       "0     101  12/3/2020   1      rice     60         3    180\n",
       "1     101  12/3/2020   2       dal     45         4    180\n",
       "2     101  12/3/2020   1      rice     50         2    100\n",
       "3     101          2   2       dal     40         1     40\n",
       "4     102  12/3/2020   1  shamppoo    300         2    600\n",
       "5     102  12/3/2020   2      soap     30         4    120\n",
       "6     102  12/3/2020   1      rice     35         6    210\n",
       "7     103          2   2      rice     60         3    180"
      ]
     },
     "execution_count": 10,
     "metadata": {},
     "output_type": "execute_result"
    }
   ],
   "source": [
    "import csv\n",
    "with open('billingsystem.csv','a') as f:\n",
    "    x=csv.writer(f)\n",
    "    n = int(input(\"enter no of products = \"))\n",
    "    for i in range(1,n+1):\n",
    "        billno = int(input(\"enter billno = \"))\n",
    "        date = input(\"enter date = \")\n",
    "        sn = int(input(\"enter sn = \"))\n",
    "        pname = input(\"enter pname = \")\n",
    "        price = int(input(\"enter price = \"))\n",
    "        quantity = int(input(\"enter quantity = \"))\n",
    "        total = price*quantity\n",
    "        \n",
    "        fields2 = [billno,date,sn,pname,price,quantity,total]\n",
    "        x.writerow(fields2)    \n",
    "import pandas as pd\n",
    "df = pd.read_csv('billingsystem.csv')\n",
    "df\n"
   ]
  },
  {
   "cell_type": "code",
   "execution_count": 1,
   "metadata": {},
   "outputs": [],
   "source": [
    "#library management\n",
    "b = open('librarysystem.csv','x')\n"
   ]
  },
  {
   "cell_type": "code",
   "execution_count": 4,
   "metadata": {},
   "outputs": [],
   "source": [
    "b = open('librarysystem.csv','a')\n",
    "b.write('Book no,Name,Author,Location,Borrowedby,Borrowed date,Return date')\n",
    "b.close()\n"
   ]
  },
  {
   "cell_type": "code",
   "execution_count": 1,
   "metadata": {},
   "outputs": [
    {
     "name": "stdout",
     "output_type": "stream",
     "text": [
      "enter number of books = 2\n",
      "enter book no = 101\n",
      "enter name = abc\n",
      "enter author = xyz\n",
      "enter location = m1\n",
      "enter borrower's name = mno\n",
      "enter borrowed date = 12/6/2020\n",
      "enter return date = 19/6/2020\n",
      "enter book no = 102\n",
      "enter name = def\n",
      "enter author = uvw\n",
      "enter location = m2\n",
      "enter borrower's name = jkl\n",
      "enter borrowed date = 13/6/2020\n",
      "enter return date = 20/6/2020\n"
     ]
    }
   ],
   "source": [
    "import csv\n",
    "with open('librarysystem.csv','a') as f:\n",
    "    x=csv.writer(f)\n",
    "    n = int(input(\"enter number of books = \"))\n",
    "    for i in range(1,n+1):\n",
    "        bookno = input(\"enter book no = \")\n",
    "        name = input(\"enter name = \")\n",
    "        author = input(\"enter author = \")\n",
    "        location = input(\"enter location = \")\n",
    "        borrowedby = input(\"enter borrower's name = \")\n",
    "        bdate = input(\"enter borrowed date = \")\n",
    "        rdate = input(\"enter return date = \")\n",
    "        \n",
    "        field = [bookno,name,author,location,borrowedby,bdate,rdate]\n",
    "        x.writerow(field)"
   ]
  },
  {
   "cell_type": "code",
   "execution_count": 2,
   "metadata": {},
   "outputs": [
    {
     "data": {
      "text/html": [
       "<div>\n",
       "<style scoped>\n",
       "    .dataframe tbody tr th:only-of-type {\n",
       "        vertical-align: middle;\n",
       "    }\n",
       "\n",
       "    .dataframe tbody tr th {\n",
       "        vertical-align: top;\n",
       "    }\n",
       "\n",
       "    .dataframe thead th {\n",
       "        text-align: right;\n",
       "    }\n",
       "</style>\n",
       "<table border=\"1\" class=\"dataframe\">\n",
       "  <thead>\n",
       "    <tr style=\"text-align: right;\">\n",
       "      <th></th>\n",
       "      <th>Book no</th>\n",
       "      <th>Name</th>\n",
       "      <th>Author</th>\n",
       "      <th>Location</th>\n",
       "      <th>Borrowedby</th>\n",
       "      <th>Borrowed date</th>\n",
       "      <th>Return date101</th>\n",
       "      <th>abc</th>\n",
       "      <th>xyz</th>\n",
       "      <th>m1</th>\n",
       "      <th>mno</th>\n",
       "      <th>12/6/2020</th>\n",
       "      <th>19/6/2020</th>\n",
       "    </tr>\n",
       "  </thead>\n",
       "  <tbody>\n",
       "    <tr>\n",
       "      <th>0</th>\n",
       "      <td>102</td>\n",
       "      <td>def</td>\n",
       "      <td>uvw</td>\n",
       "      <td>m2</td>\n",
       "      <td>jkl</td>\n",
       "      <td>13/6/2020</td>\n",
       "      <td>20/6/2020</td>\n",
       "      <td>NaN</td>\n",
       "      <td>NaN</td>\n",
       "      <td>NaN</td>\n",
       "      <td>NaN</td>\n",
       "      <td>NaN</td>\n",
       "      <td>NaN</td>\n",
       "    </tr>\n",
       "  </tbody>\n",
       "</table>\n",
       "</div>"
      ],
      "text/plain": [
       "   Book no Name Author Location Borrowedby Borrowed date Return date101  abc  \\\n",
       "0      102  def    uvw       m2        jkl     13/6/2020      20/6/2020  NaN   \n",
       "\n",
       "   xyz  m1  mno  12/6/2020  19/6/2020  \n",
       "0  NaN NaN  NaN        NaN        NaN  "
      ]
     },
     "execution_count": 2,
     "metadata": {},
     "output_type": "execute_result"
    }
   ],
   "source": [
    "import pandas as pd\n",
    "df = pd.read_csv('librarysystem.csv')\n",
    "df"
   ]
  },
  {
   "cell_type": "code",
   "execution_count": null,
   "metadata": {},
   "outputs": [],
   "source": []
  }
 ],
 "metadata": {
  "kernelspec": {
   "display_name": "Python 3",
   "language": "python",
   "name": "python3"
  },
  "language_info": {
   "codemirror_mode": {
    "name": "ipython",
    "version": 3
   },
   "file_extension": ".py",
   "mimetype": "text/x-python",
   "name": "python",
   "nbconvert_exporter": "python",
   "pygments_lexer": "ipython3",
   "version": "3.8.3"
  }
 },
 "nbformat": 4,
 "nbformat_minor": 4
}
