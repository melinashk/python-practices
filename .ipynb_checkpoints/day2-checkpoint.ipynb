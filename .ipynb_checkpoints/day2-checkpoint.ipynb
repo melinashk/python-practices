{
 "cells": [
  {
   "cell_type": "code",
   "execution_count": 1,
   "metadata": {},
   "outputs": [
    {
     "name": "stdout",
     "output_type": "stream",
     "text": [
      "hellow world\n"
     ]
    }
   ],
   "source": [
    "def hello():\n",
    "    print (\"hellow world\")\n",
    "hello()"
   ]
  },
  {
   "cell_type": "code",
   "execution_count": 2,
   "metadata": {},
   "outputs": [
    {
     "name": "stdout",
     "output_type": "stream",
     "text": [
      "the value of i is  210.0\n"
     ]
    }
   ],
   "source": [
    "def cal():\n",
    "    p=1000      #local variable\n",
    "    t=2\n",
    "    r=10.5\n",
    "    \n",
    "    i=(p*t*r)/100\n",
    "    print (\"the value of i is \",i)\n",
    "cal()"
   ]
  },
  {
   "cell_type": "code",
   "execution_count": 3,
   "metadata": {},
   "outputs": [
    {
     "name": "stdout",
     "output_type": "stream",
     "text": [
      "enter p=1000\n",
      "enter t=2\n",
      "enter r=3\n",
      "the value of i is  60.0\n"
     ]
    }
   ],
   "source": [
    "p=int(input(\"enter p=\"))    #global variable\n",
    "t=float(input(\"enter t=\"))\n",
    "r=float(input(\"enter r=\"))\n",
    "\n",
    "def cal():\n",
    "    i=(p*t*r)/100\n",
    "    print (\"the value of i is \",i)\n",
    "cal()"
   ]
  },
  {
   "cell_type": "code",
   "execution_count": 2,
   "metadata": {},
   "outputs": [
    {
     "name": "stdout",
     "output_type": "stream",
     "text": [
      "the value of i is  210.0\n"
     ]
    },
    {
     "ename": "NameError",
     "evalue": "name 't' is not defined",
     "output_type": "error",
     "traceback": [
      "\u001b[1;31m---------------------------------------------------------------------------\u001b[0m",
      "\u001b[1;31mNameError\u001b[0m                                 Traceback (most recent call last)",
      "\u001b[1;32m<ipython-input-2-ca3ff5136c37>\u001b[0m in \u001b[0;36m<module>\u001b[1;34m\u001b[0m\n\u001b[0;32m      8\u001b[0m     \u001b[0mprint\u001b[0m \u001b[1;33m(\u001b[0m\u001b[1;34m\"the value of i is \"\u001b[0m\u001b[1;33m,\u001b[0m\u001b[0mi\u001b[0m\u001b[1;33m)\u001b[0m\u001b[1;33m\u001b[0m\u001b[1;33m\u001b[0m\u001b[0m\n\u001b[0;32m      9\u001b[0m \u001b[0mcal\u001b[0m\u001b[1;33m(\u001b[0m\u001b[1;33m)\u001b[0m\u001b[1;33m\u001b[0m\u001b[1;33m\u001b[0m\u001b[0m\n\u001b[1;32m---> 10\u001b[1;33m \u001b[0mprint\u001b[0m \u001b[1;33m(\u001b[0m\u001b[0mt\u001b[0m\u001b[1;33m)\u001b[0m\u001b[1;33m\u001b[0m\u001b[1;33m\u001b[0m\u001b[0m\n\u001b[0m\u001b[0;32m     11\u001b[0m \u001b[1;33m\u001b[0m\u001b[0m\n",
      "\u001b[1;31mNameError\u001b[0m: name 't' is not defined"
     ]
    }
   ],
   "source": [
    "def cal():\n",
    "    global p     #global\n",
    "    p=1000\n",
    "    t=2          #local\n",
    "    r=10.5       #local\n",
    "    \n",
    "    i=(p*t*r)/100\n",
    "    print (\"the value of i is \",i)\n",
    "cal()\n",
    "print (t)\n",
    "\n"
   ]
  },
  {
   "cell_type": "code",
   "execution_count": 3,
   "metadata": {},
   "outputs": [
    {
     "name": "stdout",
     "output_type": "stream",
     "text": [
      "enter p=1000\n",
      "enter t=2\n",
      "enter r=3\n",
      "the value of i is  60.0\n"
     ]
    }
   ],
   "source": [
    "#function with no aargument with no return type\n",
    "\n",
    "p=int(input(\"enter p=\"))    #global variable\n",
    "t=float(input(\"enter t=\"))\n",
    "r=float(input(\"enter r=\"))\n",
    "\n",
    "def cal():\n",
    "    i=(p*t*r)/100\n",
    "    print (\"the value of i is \",i)\n",
    "    \n",
    "cal()"
   ]
  },
  {
   "cell_type": "code",
   "execution_count": 4,
   "metadata": {},
   "outputs": [
    {
     "name": "stdout",
     "output_type": "stream",
     "text": [
      "enter p=10000\n",
      "enter t=3\n",
      "enter r=4\n",
      "the value of i is  1200.0\n"
     ]
    }
   ],
   "source": [
    "#function with aargument with no return type\n",
    "\n",
    "p=int(input(\"enter p=\"))    #global variable\n",
    "t=float(input(\"enter t=\"))\n",
    "r=float(input(\"enter r=\"))\n",
    "\n",
    "def cal(p,t,r):\n",
    "    i=(p*t*r)/100\n",
    "    print (\"the value of i is \",i)\n",
    "    \n",
    "cal(p,t,r)"
   ]
  },
  {
   "cell_type": "code",
   "execution_count": 6,
   "metadata": {},
   "outputs": [
    {
     "name": "stdout",
     "output_type": "stream",
     "text": [
      "enter p=1000\n",
      "enter t=3\n",
      "enter r=4\n",
      "the value of i is  120.0\n"
     ]
    }
   ],
   "source": [
    "#function with aargument with no return type\n",
    "\n",
    "p=int(input(\"enter p=\"))    #global variable\n",
    "t=float(input(\"enter t=\"))\n",
    "\n",
    "\n",
    "def cal(x,y):\n",
    "    r=float(input(\"enter r=\"))\n",
    "    i=(x*y*r)/100\n",
    "    print (\"the value of i is \",i)\n",
    "    \n",
    "cal(p,t)"
   ]
  },
  {
   "cell_type": "code",
   "execution_count": 7,
   "metadata": {},
   "outputs": [
    {
     "name": "stdout",
     "output_type": "stream",
     "text": [
      "enter l=5\n",
      "enter b=6\n",
      "enter h=7\n",
      "Volume= 210\n",
      "Area= 30\n"
     ]
    }
   ],
   "source": [
    "l=int(input(\"enter l=\"))\n",
    "b=int(input(\"enter b=\"))\n",
    "h=int(input(\"enter h=\"))\n",
    "\n",
    "def area(x,y):\n",
    "    a=x*y\n",
    "    print (\"Area=\",a)\n",
    "    \n",
    "def volume(x,y,z):\n",
    "    v=x*y*z\n",
    "    print (\"Volume=\",v)\n",
    "    \n",
    "volume (l,b,h)\n",
    "area(l,b)"
   ]
  },
  {
   "cell_type": "code",
   "execution_count": 8,
   "metadata": {},
   "outputs": [
    {
     "name": "stdout",
     "output_type": "stream",
     "text": [
      "php\n",
      "C\n",
      "C++\n",
      "Java\n",
      "python\n"
     ]
    }
   ],
   "source": [
    "#default value problem\n",
    "def language(lan=\"python\"):\n",
    "    print (lan)\n",
    "\n",
    "language(\"php\")\n",
    "language(\"C\")\n",
    "language(\"C++\")\n",
    "language(\"Java\")\n",
    "language()"
   ]
  },
  {
   "cell_type": "code",
   "execution_count": 11,
   "metadata": {},
   "outputs": [
    {
     "name": "stdout",
     "output_type": "stream",
     "text": [
      "enter name:Ram\n",
      "enter age:12\n",
      "enter address:Nepal\n",
      "hello my name is Ram I am from Nepal I am 12\n"
     ]
    }
   ],
   "source": [
    "#array passing\n",
    "def info(x):\n",
    "    name,age,add=x\n",
    "    \n",
    "    my_info = \"hello my name is \"+name+\" I am from \"+add+\" I am \"+str(age) \n",
    "    print (my_info)\n",
    "\n",
    "name=input(\"enter name:\")\n",
    "age=int(input(\"enter age:\"))\n",
    "add=input(\"enter address:\")\n",
    "\n",
    "a=[name,age,add]\n",
    "\n",
    "info(a)"
   ]
  },
  {
   "cell_type": "code",
   "execution_count": 12,
   "metadata": {},
   "outputs": [
    {
     "name": "stdout",
     "output_type": "stream",
     "text": [
      "enter p=2000\n",
      "enter t=3\n",
      "enter r=4\n"
     ]
    },
    {
     "data": {
      "text/plain": [
       "240.0"
      ]
     },
     "execution_count": 12,
     "metadata": {},
     "output_type": "execute_result"
    }
   ],
   "source": [
    "#function with no argument with return type\n",
    "\n",
    "def cal():\n",
    "    p=int(input(\"enter p=\"))   \n",
    "    t=float(input(\"enter t=\"))\n",
    "    r=float(input(\"enter r=\"))\n",
    "    i=(p*t*r)/100\n",
    "    return i\n",
    "    \n",
    "cal()"
   ]
  },
  {
   "cell_type": "code",
   "execution_count": 13,
   "metadata": {},
   "outputs": [
    {
     "name": "stdout",
     "output_type": "stream",
     "text": [
      "enter p=10000\n",
      "enter t=2\n",
      "enter r=3\n",
      "600.0\n"
     ]
    }
   ],
   "source": [
    "#function with no argument with return type\n",
    "\n",
    "def cal():\n",
    "    p=int(input(\"enter p=\"))   \n",
    "    t=float(input(\"enter t=\"))\n",
    "    r=float(input(\"enter r=\"))\n",
    "    i=(p*t*r)/100\n",
    "    return i\n",
    "    \n",
    "print (cal())"
   ]
  },
  {
   "cell_type": "code",
   "execution_count": 15,
   "metadata": {},
   "outputs": [
    {
     "name": "stdout",
     "output_type": "stream",
     "text": [
      "enter l=1000\n",
      "enter b=2\n",
      "enter h=3\n",
      "2000\n",
      "Volume= 6000\n"
     ]
    }
   ],
   "source": [
    "l=int(input(\"enter l=\"))\n",
    "b=int(input(\"enter b=\"))\n",
    "h=int(input(\"enter h=\"))\n",
    "\n",
    "def area():\n",
    "    a=l*b\n",
    "    return a\n",
    "    \n",
    "x=area()\n",
    "print (x)\n",
    "v=x*h\n",
    "print (\"Volume=\",v)"
   ]
  },
  {
   "cell_type": "code",
   "execution_count": 17,
   "metadata": {},
   "outputs": [
    {
     "name": "stdout",
     "output_type": "stream",
     "text": [
      "enter l=100\n",
      "enter b=3\n",
      "enter h=4\n",
      "300\n",
      "Volume= 1200\n"
     ]
    }
   ],
   "source": [
    "#function with argument with return type\n",
    "l=int(input(\"enter l=\"))\n",
    "b=int(input(\"enter b=\"))\n",
    "h=int(input(\"enter h=\"))\n",
    "\n",
    "def area(x,y):\n",
    "    a=x*y\n",
    "    return a\n",
    "    \n",
    "ar=area(l,b)\n",
    "print (ar)\n",
    "v=ar*h\n",
    "print (\"Volume=\",v)"
   ]
  },
  {
   "cell_type": "code",
   "execution_count": 19,
   "metadata": {},
   "outputs": [
    {
     "name": "stdout",
     "output_type": "stream",
     "text": [
      "enter l=100\n",
      "enter b=2\n",
      "enter h=3\n",
      "200\n",
      "Volume= 600\n"
     ]
    }
   ],
   "source": [
    "l=int(input(\"enter l=\"))\n",
    "b=int(input(\"enter b=\"))\n",
    "h=int(input(\"enter h=\"))\n",
    "\n",
    "def area(x,y):\n",
    "    a=x*y\n",
    "    print (\"Area\",a)\n",
    "    return a\n",
    "    \n",
    "def volume(x,y,z):\n",
    "    v=area(x,y)*z\n",
    "    print (\"Volume=\",v)\n",
    "    \n",
    "volume (l,b,h)\n"
   ]
  },
  {
   "cell_type": "code",
   "execution_count": null,
   "metadata": {},
   "outputs": [],
   "source": []
  },
  {
   "cell_type": "code",
   "execution_count": null,
   "metadata": {},
   "outputs": [],
   "source": []
  }
 ],
 "metadata": {
  "kernelspec": {
   "display_name": "Python 3",
   "language": "python",
   "name": "python3"
  },
  "language_info": {
   "codemirror_mode": {
    "name": "ipython",
    "version": 3
   },
   "file_extension": ".py",
   "mimetype": "text/x-python",
   "name": "python",
   "nbconvert_exporter": "python",
   "pygments_lexer": "ipython3",
   "version": "3.8.3"
  }
 },
 "nbformat": 4,
 "nbformat_minor": 4
}
