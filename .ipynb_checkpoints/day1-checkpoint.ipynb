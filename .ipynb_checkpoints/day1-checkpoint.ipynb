{
 "cells": [
  {
   "cell_type": "code",
   "execution_count": 1,
   "metadata": {},
   "outputs": [
    {
     "name": "stdout",
     "output_type": "stream",
     "text": [
      "200.0\n"
     ]
    }
   ],
   "source": [
    "p=1000\n",
    "t=2\n",
    "r=10\n",
    "\n",
    "i=(p*t*r)/100\n",
    "print (i)"
   ]
  },
  {
   "cell_type": "code",
   "execution_count": 5,
   "metadata": {},
   "outputs": [
    {
     "name": "stdout",
     "output_type": "stream",
     "text": [
      "appleball\n"
     ]
    }
   ],
   "source": [
    "a=\"apple\"\n",
    "b=\"ball\"\n",
    "c=a+b\n",
    "print (c)"
   ]
  },
  {
   "cell_type": "code",
   "execution_count": 3,
   "metadata": {},
   "outputs": [
    {
     "ename": "TypeError",
     "evalue": "unsupported operand type(s) for -: 'str' and 'str'",
     "output_type": "error",
     "traceback": [
      "\u001b[1;31m---------------------------------------------------------------------------\u001b[0m",
      "\u001b[1;31mTypeError\u001b[0m                                 Traceback (most recent call last)",
      "\u001b[1;32m<ipython-input-3-5ae0619f8fe1>\u001b[0m in \u001b[0;36m<module>\u001b[1;34m\u001b[0m\n\u001b[1;32m----> 1\u001b[1;33m \u001b[0ma\u001b[0m\u001b[1;33m-\u001b[0m\u001b[0mb\u001b[0m\u001b[1;33m\u001b[0m\u001b[1;33m\u001b[0m\u001b[0m\n\u001b[0m",
      "\u001b[1;31mTypeError\u001b[0m: unsupported operand type(s) for -: 'str' and 'str'"
     ]
    }
   ],
   "source": [
    "a-b"
   ]
  },
  {
   "cell_type": "code",
   "execution_count": 8,
   "metadata": {},
   "outputs": [
    {
     "name": "stdout",
     "output_type": "stream",
     "text": [
      "hello world\thello world\thello world\thello world\t\n"
     ]
    }
   ],
   "source": [
    "a=\"hello world\\t\"\n",
    "print (a*4)\n"
   ]
  },
  {
   "cell_type": "code",
   "execution_count": 12,
   "metadata": {},
   "outputs": [
    {
     "name": "stdout",
     "output_type": "stream",
     "text": [
      "enter the value of a=10\n"
     ]
    }
   ],
   "source": [
    "a=input(\"enter the value of a=\")"
   ]
  },
  {
   "cell_type": "code",
   "execution_count": 13,
   "metadata": {},
   "outputs": [
    {
     "name": "stdout",
     "output_type": "stream",
     "text": [
      "<class 'str'>\n"
     ]
    }
   ],
   "source": [
    "print (type(a))\n"
   ]
  },
  {
   "cell_type": "code",
   "execution_count": 14,
   "metadata": {},
   "outputs": [
    {
     "name": "stdout",
     "output_type": "stream",
     "text": [
      "enter the value of a10\n",
      "10\n",
      "<class 'int'>\n"
     ]
    }
   ],
   "source": [
    "a=int(input(\"enter the value of a\"))\n",
    "print (a)\n",
    "print (type(a))"
   ]
  },
  {
   "cell_type": "code",
   "execution_count": 15,
   "metadata": {},
   "outputs": [
    {
     "name": "stdout",
     "output_type": "stream",
     "text": [
      "enter a=10\n",
      "enter b=20\n"
     ]
    },
    {
     "data": {
      "text/plain": [
       "30"
      ]
     },
     "execution_count": 15,
     "metadata": {},
     "output_type": "execute_result"
    }
   ],
   "source": [
    "a=int(input(\"enter a=\"))\n",
    "b=int(input(\"enter b=\"))\n",
    "a+b"
   ]
  },
  {
   "cell_type": "code",
   "execution_count": 17,
   "metadata": {},
   "outputs": [
    {
     "name": "stdout",
     "output_type": "stream",
     "text": [
      "enter p=1000\n",
      "enter t=2.5\n",
      "enter r=10.4\n",
      "the value of i is 260.0\n"
     ]
    }
   ],
   "source": [
    "p=int(input(\"enter p=\"))\n",
    "t=float(input(\"enter t=\"))\n",
    "r=float(input(\"enter r=\"))\n",
    "\n",
    "i=(p*t*r)/100\n",
    "print (\"the value of i is\",i)"
   ]
  },
  {
   "cell_type": "code",
   "execution_count": 18,
   "metadata": {},
   "outputs": [
    {
     "name": "stdout",
     "output_type": "stream",
     "text": [
      "enter name=Ram\n",
      "enter age=34\n",
      "enter address=Nepal\n"
     ]
    }
   ],
   "source": [
    "name=input(\"enter name=\")\n",
    "age=int(input(\"enter age=\"))\n",
    "address=input(\"enter address=\")\n",
    "info=\"Hello My name is \"+name+\" I am from \"+address+\" I am \"+str(age)"
   ]
  },
  {
   "cell_type": "code",
   "execution_count": 19,
   "metadata": {},
   "outputs": [
    {
     "name": "stdout",
     "output_type": "stream",
     "text": [
      "Hello My name is Ram I am from Nepal I am 34\n"
     ]
    }
   ],
   "source": [
    "print (info)"
   ]
  },
  {
   "cell_type": "code",
   "execution_count": 23,
   "metadata": {},
   "outputs": [
    {
     "name": "stdout",
     "output_type": "stream",
     "text": [
      "enter a=10\n",
      "enter b=2\n",
      "enter + - * /:%\n",
      "Invalid operator\n"
     ]
    }
   ],
   "source": [
    "a=int(input(\"enter a=\"))\n",
    "b=int(input(\"enter b=\"))\n",
    "o=input(\"enter + - * /:\")\n",
    "if o == '+':\n",
    "    print (a+b)\n",
    "elif o == '-':\n",
    "    print (a-b)\n",
    "elif o == '*':\n",
    "    print (a*b)\n",
    "elif o == '/':\n",
    "    print (a/b)\n",
    "else:\n",
    "    print (\"Invalid operator\")"
   ]
  },
  {
   "cell_type": "code",
   "execution_count": null,
   "metadata": {},
   "outputs": [],
   "source": []
  }
 ],
 "metadata": {
  "kernelspec": {
   "display_name": "Python 3",
   "language": "python",
   "name": "python3"
  },
  "language_info": {
   "codemirror_mode": {
    "name": "ipython",
    "version": 3
   },
   "file_extension": ".py",
   "mimetype": "text/x-python",
   "name": "python",
   "nbconvert_exporter": "python",
   "pygments_lexer": "ipython3",
   "version": "3.8.3"
  }
 },
 "nbformat": 4,
 "nbformat_minor": 4
}
