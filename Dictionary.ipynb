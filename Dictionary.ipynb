{
 "cells": [
  {
   "cell_type": "code",
   "execution_count": 1,
   "metadata": {},
   "outputs": [
    {
     "data": {
      "text/plain": [
       "dict"
      ]
     },
     "execution_count": 1,
     "metadata": {},
     "output_type": "execute_result"
    }
   ],
   "source": [
    "a = {}\n",
    "type(a)"
   ]
  },
  {
   "cell_type": "code",
   "execution_count": 2,
   "metadata": {},
   "outputs": [],
   "source": [
    "# a = {<key>:<value>,<key>:<value>}"
   ]
  },
  {
   "cell_type": "code",
   "execution_count": 5,
   "metadata": {},
   "outputs": [
    {
     "data": {
      "text/plain": [
       "'Ball'"
      ]
     },
     "execution_count": 5,
     "metadata": {},
     "output_type": "execute_result"
    }
   ],
   "source": [
    "a = {'a':'apple','b':'Ball'}\n",
    "a['a']\n",
    "a['b']"
   ]
  },
  {
   "cell_type": "code",
   "execution_count": 6,
   "metadata": {},
   "outputs": [],
   "source": [
    "# indexed\n",
    "# unordered\n",
    "# mutable\n",
    "# no duplicate index but duplicate values"
   ]
  },
  {
   "cell_type": "code",
   "execution_count": 7,
   "metadata": {},
   "outputs": [
    {
     "name": "stdout",
     "output_type": "stream",
     "text": [
      "{'A': 'ant', 'a': 'apple', 'b': 'Ball'}\n"
     ]
    }
   ],
   "source": [
    "a = {'a':'apple','b':'Ball','A':'ant'}\n",
    "print(a)"
   ]
  },
  {
   "cell_type": "code",
   "execution_count": 8,
   "metadata": {},
   "outputs": [
    {
     "name": "stdout",
     "output_type": "stream",
     "text": [
      "A\n",
      "a\n",
      "b\n"
     ]
    }
   ],
   "source": [
    "for i in a:\n",
    "    print(i)"
   ]
  },
  {
   "cell_type": "code",
   "execution_count": 9,
   "metadata": {},
   "outputs": [
    {
     "name": "stdout",
     "output_type": "stream",
     "text": [
      "ant\n",
      "apple\n",
      "Ball\n"
     ]
    }
   ],
   "source": [
    "for i in a.values():\n",
    "    print(i)"
   ]
  },
  {
   "cell_type": "code",
   "execution_count": 10,
   "metadata": {},
   "outputs": [
    {
     "name": "stdout",
     "output_type": "stream",
     "text": [
      "('A', 'ant')\n",
      "('a', 'apple')\n",
      "('b', 'Ball')\n"
     ]
    }
   ],
   "source": [
    "for i in a.items():\n",
    "    print(i)"
   ]
  },
  {
   "cell_type": "code",
   "execution_count": 12,
   "metadata": {},
   "outputs": [
    {
     "name": "stdout",
     "output_type": "stream",
     "text": [
      "{'c': 'Cat', 'a': 'Apple', 'b': 'Ball'}\n"
     ]
    }
   ],
   "source": [
    "n = {}\n",
    "n['a'] = 'Apple'\n",
    "n['b'] = 'Ball'\n",
    "n['c'] = 'Cat'\n",
    "print(n)"
   ]
  },
  {
   "cell_type": "code",
   "execution_count": 13,
   "metadata": {},
   "outputs": [
    {
     "data": {
      "text/plain": [
       "{'a': 'Ant', 'b': 'Ball', 'c': 'Cat'}"
      ]
     },
     "execution_count": 13,
     "metadata": {},
     "output_type": "execute_result"
    }
   ],
   "source": [
    "d = {'c': 'Cat', 'a': 'Apple', 'b': 'Ball'}\n",
    "d['a'] = 'Ant'\n",
    "d"
   ]
  },
  {
   "cell_type": "code",
   "execution_count": 14,
   "metadata": {},
   "outputs": [
    {
     "name": "stdout",
     "output_type": "stream",
     "text": [
      "{'a': 'Ant', 'b': 'Ball'}\n"
     ]
    }
   ],
   "source": [
    "d = {'a': 'Ant', 'b': 'Ball', 'c': 'Cat'}\n",
    "del d['c']\n",
    "print(d)"
   ]
  },
  {
   "cell_type": "code",
   "execution_count": 15,
   "metadata": {},
   "outputs": [
    {
     "ename": "TypeError",
     "evalue": "unsupported operand type(s) for +: 'dict' and 'dict'",
     "output_type": "error",
     "traceback": [
      "\u001b[1;31m---------------------------------------------------------------------------\u001b[0m",
      "\u001b[1;31mTypeError\u001b[0m                                 Traceback (most recent call last)",
      "\u001b[1;32m<ipython-input-15-65d8289ee904>\u001b[0m in \u001b[0;36m<module>\u001b[1;34m()\u001b[0m\n\u001b[0;32m      1\u001b[0m \u001b[0md\u001b[0m \u001b[1;33m=\u001b[0m \u001b[1;33m{\u001b[0m\u001b[1;34m'c'\u001b[0m\u001b[1;33m:\u001b[0m \u001b[1;34m'Cat'\u001b[0m\u001b[1;33m,\u001b[0m \u001b[1;34m'a'\u001b[0m\u001b[1;33m:\u001b[0m \u001b[1;34m'Apple'\u001b[0m\u001b[1;33m}\u001b[0m\u001b[1;33m\u001b[0m\u001b[0m\n\u001b[0;32m      2\u001b[0m \u001b[0me\u001b[0m \u001b[1;33m=\u001b[0m \u001b[1;33m{\u001b[0m\u001b[1;34m'f'\u001b[0m\u001b[1;33m:\u001b[0m\u001b[1;34m'Fish'\u001b[0m\u001b[1;33m}\u001b[0m\u001b[1;33m\u001b[0m\u001b[0m\n\u001b[1;32m----> 3\u001b[1;33m \u001b[0md\u001b[0m\u001b[1;33m+\u001b[0m\u001b[0me\u001b[0m\u001b[1;33m\u001b[0m\u001b[0m\n\u001b[0m",
      "\u001b[1;31mTypeError\u001b[0m: unsupported operand type(s) for +: 'dict' and 'dict'"
     ]
    }
   ],
   "source": [
    "d = {'c': 'Cat', 'a': 'Apple'}\n",
    "e = {'f':'Fish'}\n",
    "d+e"
   ]
  },
  {
   "cell_type": "code",
   "execution_count": 16,
   "metadata": {},
   "outputs": [
    {
     "data": {
      "text/plain": [
       "{'a': 'Apple', 'c': 'Cat', 'f': 'Fish'}"
      ]
     },
     "execution_count": 16,
     "metadata": {},
     "output_type": "execute_result"
    }
   ],
   "source": [
    "d = {'c': 'Cat', 'a': 'Apple'}\n",
    "e = {'f':'Fish'}\n",
    "d.update(e)\n",
    "d"
   ]
  },
  {
   "cell_type": "code",
   "execution_count": 17,
   "metadata": {},
   "outputs": [
    {
     "name": "stdout",
     "output_type": "stream",
     "text": [
      "Enter no of rows = 2\n",
      "Enter name = Ram\n",
      "Enter phone = 9878776754\n",
      "Enter name = Shyam\n",
      "Enter phone = 9856554543\n",
      "{'Ram': '9878776754', 'Shyam': '9856554543'}\n"
     ]
    }
   ],
   "source": [
    "info = {}\n",
    "n = int(input(\"Enter no of rows = \"))\n",
    "for i in range(n):\n",
    "    name = input(\"Enter name = \")\n",
    "    phone = input(\"Enter phone = \")\n",
    "    info[name] = phone\n",
    "print(info)"
   ]
  },
  {
   "cell_type": "code",
   "execution_count": 20,
   "metadata": {},
   "outputs": [
    {
     "name": "stdout",
     "output_type": "stream",
     "text": [
      "Enter name = Ram\n"
     ]
    },
    {
     "data": {
      "text/plain": [
       "'9878776754'"
      ]
     },
     "execution_count": 20,
     "metadata": {},
     "output_type": "execute_result"
    }
   ],
   "source": [
    "name = input(\"Enter name = \")\n",
    "info[name]"
   ]
  },
  {
   "cell_type": "code",
   "execution_count": 22,
   "metadata": {},
   "outputs": [
    {
     "name": "stdout",
     "output_type": "stream",
     "text": [
      "Enter name which u want to delete = Ram\n",
      "{'Shyam': '9856554543'}\n"
     ]
    }
   ],
   "source": [
    "name = input(\"Enter name which u want to delete = \")\n",
    "del info[name]\n",
    "print(info)"
   ]
  },
  {
   "cell_type": "code",
   "execution_count": 23,
   "metadata": {},
   "outputs": [
    {
     "data": {
      "text/plain": [
       "2"
      ]
     },
     "execution_count": 23,
     "metadata": {},
     "output_type": "execute_result"
    }
   ],
   "source": [
    "l = {'Ram': '9878776754', 'Shyam': '9856554543'}\n",
    "len(l)"
   ]
  },
  {
   "cell_type": "code",
   "execution_count": 27,
   "metadata": {},
   "outputs": [
    {
     "name": "stdout",
     "output_type": "stream",
     "text": [
      "9878776754\n"
     ]
    }
   ],
   "source": [
    "l = {'Ram': '9878776754', 'Shyam': '9856554543'}\n",
    "print(l.pop('Ram'))\n"
   ]
  },
  {
   "cell_type": "code",
   "execution_count": 28,
   "metadata": {},
   "outputs": [
    {
     "name": "stdout",
     "output_type": "stream",
     "text": [
      "9878776754\n"
     ]
    }
   ],
   "source": [
    "l = {'Ram': '9878776754', 'Shyam': '9856554543'}\n",
    "a = l.pop('Ram')\n",
    "print(a)\n"
   ]
  },
  {
   "cell_type": "code",
   "execution_count": 1,
   "metadata": {},
   "outputs": [
    {
     "name": "stdout",
     "output_type": "stream",
     "text": [
      "Enter how many rows = 2\n",
      "Enter name=Ram\n",
      "Enter Marks78\n",
      "Enter Marks89\n",
      "Enter Marks78\n",
      "Enter Marks90\n",
      "Enter Marks98\n",
      "Enter name=78\n",
      "Enter Marks89\n",
      "Enter Marks68\n",
      "Enter Marks56\n",
      "Enter Marks90\n",
      "Enter Marks45\n",
      "{1: 'Ram 78 89 78 90 98 433 86.6', 2: '78 89 68 56 90 45 348 69.6'}\n"
     ]
    }
   ],
   "source": [
    "infos = {}\n",
    "n = int(input(\"Enter how many rows = \"))\n",
    "for i in range(1,n+1):\n",
    "    name = input(\"Enter name=\")\n",
    "    physics = int(input(\"Enter Marks\"))\n",
    "    chemistry = int(input(\"Enter Marks\"))\n",
    "    Math = int(input(\"Enter Marks\"))\n",
    "    English = int(input(\"Enter Marks\"))\n",
    "    Nepali = int(input(\"Enter Marks\"))\n",
    "    \n",
    "    total = sum([physics,chemistry,Math,English,Nepali])\n",
    "    per = total/5\n",
    "    \n",
    "    \n",
    "    info = f\"{name} {physics} {chemistry} {Math} {English} {Nepali} {total} {per}\"\n",
    "    infos[i] = info\n",
    "    \n",
    "print(infos)"
   ]
  },
  {
   "cell_type": "code",
   "execution_count": 3,
   "metadata": {},
   "outputs": [],
   "source": [
    "# list inside dict\n",
    "d = {1: ['Ram',78,89,78,90,98,433,86.6], 2: [78,89,68,56,90,45,348,69.6]}\n"
   ]
  },
  {
   "cell_type": "code",
   "execution_count": 5,
   "metadata": {},
   "outputs": [
    {
     "name": "stdout",
     "output_type": "stream",
     "text": [
      "['apple', 'ant']\n"
     ]
    }
   ],
   "source": [
    "d = {'a':['apple','ant'],'b':['ball',['bat']]}\n",
    "print(d['a'])"
   ]
  },
  {
   "cell_type": "code",
   "execution_count": 9,
   "metadata": {},
   "outputs": [
    {
     "data": {
      "text/plain": [
       "'apple'"
      ]
     },
     "execution_count": 9,
     "metadata": {},
     "output_type": "execute_result"
    }
   ],
   "source": [
    "d = {'a':['apple','ant'],'b':['ball',['bat']]}\n",
    "d['a'][0]"
   ]
  },
  {
   "cell_type": "code",
   "execution_count": 10,
   "metadata": {},
   "outputs": [
    {
     "data": {
      "text/plain": [
       "{'a': ['Apple', 'ant'], 'b': ['ball', ['bat']]}"
      ]
     },
     "execution_count": 10,
     "metadata": {},
     "output_type": "execute_result"
    }
   ],
   "source": [
    "d = {'a':['apple','ant'],'b':['ball',['bat']]}\n",
    "d['a'][0] = 'Apple'\n",
    "d"
   ]
  },
  {
   "cell_type": "code",
   "execution_count": 11,
   "metadata": {},
   "outputs": [
    {
     "data": {
      "text/plain": [
       "{'a': ['ant'], 'b': ['ball', ['bat']]}"
      ]
     },
     "execution_count": 11,
     "metadata": {},
     "output_type": "execute_result"
    }
   ],
   "source": [
    "d = {'a':['apple','ant'],'b':['ball',['bat']]}\n",
    "del d['a'][0]\n",
    "d"
   ]
  },
  {
   "cell_type": "code",
   "execution_count": 12,
   "metadata": {},
   "outputs": [
    {
     "name": "stdout",
     "output_type": "stream",
     "text": [
      "Enter how many rows = 2\n",
      "Enter name=Ram\n",
      "Enter Marks78\n",
      "Enter Marks89\n",
      "Enter Marks98\n",
      "Enter Marks67\n",
      "Enter Marks56\n",
      "Enter name=Shyam\n",
      "Enter Marks56\n",
      "Enter Marks78\n",
      "Enter Marks76\n",
      "Enter Marks67\n",
      "Enter Marks87\n",
      "{'Ram': ['Ram', 78, 89, 98, 67, 56, 388, 77.6], 'Shyam': ['Shyam', 56, 78, 76, 67, 87, 364, 72.8]}\n"
     ]
    }
   ],
   "source": [
    "infos = {}\n",
    "n = int(input(\"Enter how many rows = \"))\n",
    "for i in range(1,n+1):\n",
    "    name = input(\"Enter name=\")\n",
    "    physics = int(input(\"Enter Marks\"))\n",
    "    chemistry = int(input(\"Enter Marks\"))\n",
    "    Math = int(input(\"Enter Marks\"))\n",
    "    English = int(input(\"Enter Marks\"))\n",
    "    Nepali = int(input(\"Enter Marks\"))\n",
    "    \n",
    "    total = sum([physics,chemistry,Math,English,Nepali])\n",
    "    per = total/5\n",
    "    \n",
    "    \n",
    "    info = [name,physics,chemistry,Math,English,Nepali,total,per]\n",
    "    infos[name] = info\n",
    "    \n",
    "print(infos)"
   ]
  },
  {
   "cell_type": "code",
   "execution_count": null,
   "metadata": {},
   "outputs": [],
   "source": [
    "infos = {}\n",
    "n = int(input(\"Enter how many rows = \"))\n",
    "for i in range(1,n+1):\n",
    "    name = input(\"Enter name=\")\n",
    "    physics = int(input(\"Enter Marks\"))\n",
    "    chemistry = int(input(\"Enter Marks\"))\n",
    "    Math = int(input(\"Enter Marks\"))\n",
    "    English = int(input(\"Enter Marks\"))\n",
    "    Nepali = int(input(\"Enter Marks\"))\n",
    "    \n",
    "    total = sum([physics,chemistry,Math,English,Nepali])\n",
    "    per = total/5\n",
    "    \n",
    "    \n",
    "    info = (name,physics,chemistry,Math,English,Nepali,total,per)\n",
    "    infos[name] = info\n",
    "    \n",
    "print(infos)"
   ]
  },
  {
   "cell_type": "code",
   "execution_count": 13,
   "metadata": {},
   "outputs": [
    {
     "name": "stdout",
     "output_type": "stream",
     "text": [
      "{'Ram': {'ntc': 98412345434, 'ncell': 9806565545}, 'Shyam': {'ntc': 9849897865, 'ncell': 9806789876}}\n"
     ]
    }
   ],
   "source": [
    "# Dicts inside dicts\n",
    "a = {'Ram':{'ntc':98412345434,'ncell':9806565545},\n",
    "    'Shyam':{'ntc':9849897865,'ncell':9806789876}}\n",
    "print(a)"
   ]
  },
  {
   "cell_type": "code",
   "execution_count": 14,
   "metadata": {},
   "outputs": [
    {
     "data": {
      "text/plain": [
       "{'ntc': 98412345434, 'ncell': 9806565545}"
      ]
     },
     "execution_count": 14,
     "metadata": {},
     "output_type": "execute_result"
    }
   ],
   "source": [
    "a['Ram']"
   ]
  },
  {
   "cell_type": "code",
   "execution_count": 15,
   "metadata": {},
   "outputs": [
    {
     "data": {
      "text/plain": [
       "98412345434"
      ]
     },
     "execution_count": 15,
     "metadata": {},
     "output_type": "execute_result"
    }
   ],
   "source": [
    "a['Ram']['ntc']"
   ]
  },
  {
   "cell_type": "code",
   "execution_count": 17,
   "metadata": {},
   "outputs": [
    {
     "name": "stdout",
     "output_type": "stream",
     "text": [
      "Enter name = Shyam\n",
      "Enter 1 for ntc 2 for ncell =2\n",
      "9806789876\n"
     ]
    }
   ],
   "source": [
    "name = input(\"Enter name = \")\n",
    "tel = int(input(\"Enter 1 for ntc 2 for ncell =\"))\n",
    "if tel == 1:\n",
    "    print(a[name]['ntc'])\n",
    "else:\n",
    "    print(a[name]['ncell'])"
   ]
  },
  {
   "cell_type": "code",
   "execution_count": 19,
   "metadata": {},
   "outputs": [
    {
     "name": "stdout",
     "output_type": "stream",
     "text": [
      "{'Ram': {'ntc': 98412345434, 'ncell': 9806565545, 'UTL': 2345654}, 'Shyam': {'ntc': 9849897865, 'ncell': 9806789876}}\n"
     ]
    }
   ],
   "source": [
    "# Dicts inside dicts\n",
    "a = {'Ram':{'ntc':98412345434,'ncell':9806565545},\n",
    "    'Shyam':{'ntc':9849897865,'ncell':9806789876}}\n",
    "a['Ram']['UTL'] = 2345654\n",
    "print(a)"
   ]
  },
  {
   "cell_type": "code",
   "execution_count": 22,
   "metadata": {},
   "outputs": [
    {
     "name": "stdout",
     "output_type": "stream",
     "text": [
      "Enter how many rows = 2\n",
      "Enter name=Ram\n",
      "Enter Marks78\n",
      "Enter Marks89\n",
      "Enter Marks76\n",
      "Enter Marks89\n",
      "Enter Marks76\n",
      "Enter name=Shyam\n",
      "Enter Marks89\n",
      "Enter Marks98\n",
      "Enter Marks67\n",
      "Enter Marks67\n",
      "Enter Marks87\n",
      "{'Ram': {'Physics': 78, 'Chemistry': 89, 'Math': 76, 'English': 89, 'Nepali': 76, 'Total': 408, 'Percentage': 81.6}, 'Shyam': {'Physics': 89, 'Chemistry': 98, 'Math': 67, 'English': 67, 'Nepali': 87, 'Total': 408, 'Percentage': 81.6}}\n"
     ]
    }
   ],
   "source": [
    "infos = {}\n",
    "n = int(input(\"Enter how many rows = \"))\n",
    "for i in range(1,n+1):\n",
    "    name = input(\"Enter name=\")\n",
    "    physics = int(input(\"Enter Marks\"))\n",
    "    chemistry = int(input(\"Enter Marks\"))\n",
    "    Math = int(input(\"Enter Marks\"))\n",
    "    English = int(input(\"Enter Marks\"))\n",
    "    Nepali = int(input(\"Enter Marks\"))\n",
    "    \n",
    "    total = sum([physics,chemistry,Math,English,Nepali])\n",
    "    per = total/5\n",
    "    \n",
    "    infos[name] = {'Physics':physics,'Chemistry':chemistry,'Math':Math,'English':English,'Nepali':Nepali,'Total':total,'Percentage':per}\n",
    "    \n",
    "print(infos)"
   ]
  },
  {
   "cell_type": "code",
   "execution_count": 23,
   "metadata": {},
   "outputs": [
    {
     "name": "stdout",
     "output_type": "stream",
     "text": [
      "Enter name = Ram\n"
     ]
    },
    {
     "data": {
      "text/plain": [
       "{'Physics': 78,\n",
       " 'Chemistry': 89,\n",
       " 'Math': 76,\n",
       " 'English': 89,\n",
       " 'Nepali': 76,\n",
       " 'Total': 408,\n",
       " 'Percentage': 81.6}"
      ]
     },
     "execution_count": 23,
     "metadata": {},
     "output_type": "execute_result"
    }
   ],
   "source": [
    "name = input(\"Enter name = \")\n",
    "infos[name]"
   ]
  },
  {
   "cell_type": "code",
   "execution_count": 24,
   "metadata": {},
   "outputs": [
    {
     "data": {
      "text/plain": [
       "{'Ram': 9876778987}"
      ]
     },
     "execution_count": 24,
     "metadata": {},
     "output_type": "execute_result"
    }
   ],
   "source": [
    "# dict inside list\n",
    "l = [{'Ram':9876778987},{'Shyam':9867665654}]\n",
    "l[0]"
   ]
  },
  {
   "cell_type": "code",
   "execution_count": 25,
   "metadata": {},
   "outputs": [
    {
     "data": {
      "text/plain": [
       "2"
      ]
     },
     "execution_count": 25,
     "metadata": {},
     "output_type": "execute_result"
    }
   ],
   "source": [
    "len(l)"
   ]
  },
  {
   "cell_type": "code",
   "execution_count": 27,
   "metadata": {},
   "outputs": [
    {
     "name": "stdout",
     "output_type": "stream",
     "text": [
      "Coke\n",
      "100\n",
      "Coca Cola\n",
      "pepsi\n",
      "110\n",
      "pepsi\n"
     ]
    }
   ],
   "source": [
    "l = [{'name':'Coke','price':100,'brand':'Coca Cola'},\n",
    "    {'name':'pepsi','price':110,'brand':'pepsi'}]\n",
    "for i in l:\n",
    "    print(i['name'])\n",
    "    print(i['price'])\n",
    "    print(i['brand'])"
   ]
  },
  {
   "cell_type": "code",
   "execution_count": 29,
   "metadata": {},
   "outputs": [
    {
     "data": {
      "text/plain": [
       "{('Apple', 'Ant'): 'a'}"
      ]
     },
     "execution_count": 29,
     "metadata": {},
     "output_type": "execute_result"
    }
   ],
   "source": [
    "# d = {<key>:<value>}\n",
    "d = {'a':'Apple'}\n",
    "d = {('Apple','Ant'):'a'}\n",
    "d"
   ]
  },
  {
   "cell_type": "code",
   "execution_count": 33,
   "metadata": {},
   "outputs": [
    {
     "data": {
      "text/plain": [
       "'a'"
      ]
     },
     "execution_count": 33,
     "metadata": {},
     "output_type": "execute_result"
    }
   ],
   "source": [
    "d[('Apple', 'Ant')]"
   ]
  },
  {
   "cell_type": "code",
   "execution_count": 30,
   "metadata": {},
   "outputs": [
    {
     "ename": "TypeError",
     "evalue": "unhashable type: 'list'",
     "output_type": "error",
     "traceback": [
      "\u001b[1;31m---------------------------------------------------------------------------\u001b[0m",
      "\u001b[1;31mTypeError\u001b[0m                                 Traceback (most recent call last)",
      "\u001b[1;32m<ipython-input-30-81be8c659aab>\u001b[0m in \u001b[0;36m<module>\u001b[1;34m\u001b[0m\n\u001b[1;32m----> 1\u001b[1;33m \u001b[0md\u001b[0m \u001b[1;33m=\u001b[0m \u001b[1;33m{\u001b[0m\u001b[1;33m[\u001b[0m\u001b[1;34m'Apple'\u001b[0m\u001b[1;33m,\u001b[0m\u001b[1;34m'Ant'\u001b[0m\u001b[1;33m]\u001b[0m\u001b[1;33m:\u001b[0m\u001b[1;34m'a'\u001b[0m\u001b[1;33m}\u001b[0m\u001b[1;33m\u001b[0m\u001b[1;33m\u001b[0m\u001b[0m\n\u001b[0m\u001b[0;32m      2\u001b[0m \u001b[0md\u001b[0m\u001b[1;33m\u001b[0m\u001b[1;33m\u001b[0m\u001b[0m\n",
      "\u001b[1;31mTypeError\u001b[0m: unhashable type: 'list'"
     ]
    }
   ],
   "source": [
    "d = {['Apple','Ant']:'a'}\n",
    "d"
   ]
  },
  {
   "cell_type": "code",
   "execution_count": 31,
   "metadata": {},
   "outputs": [
    {
     "ename": "TypeError",
     "evalue": "unhashable type: 'dict'",
     "output_type": "error",
     "traceback": [
      "\u001b[1;31m---------------------------------------------------------------------------\u001b[0m",
      "\u001b[1;31mTypeError\u001b[0m                                 Traceback (most recent call last)",
      "\u001b[1;32m<ipython-input-31-121df1fd06a7>\u001b[0m in \u001b[0;36m<module>\u001b[1;34m\u001b[0m\n\u001b[1;32m----> 1\u001b[1;33m \u001b[0md\u001b[0m \u001b[1;33m=\u001b[0m \u001b[1;33m{\u001b[0m\u001b[1;33m{\u001b[0m\u001b[1;34m'Apple'\u001b[0m\u001b[1;33m:\u001b[0m\u001b[1;34m'Ant'\u001b[0m\u001b[1;33m}\u001b[0m\u001b[1;33m:\u001b[0m\u001b[1;34m'a'\u001b[0m\u001b[1;33m}\u001b[0m\u001b[1;33m\u001b[0m\u001b[1;33m\u001b[0m\u001b[0m\n\u001b[0m\u001b[0;32m      2\u001b[0m \u001b[0md\u001b[0m\u001b[1;33m\u001b[0m\u001b[1;33m\u001b[0m\u001b[0m\n",
      "\u001b[1;31mTypeError\u001b[0m: unhashable type: 'dict'"
     ]
    }
   ],
   "source": [
    "d = {{'Apple':'Ant'}:'a'}\n",
    "d"
   ]
  },
  {
   "cell_type": "code",
   "execution_count": null,
   "metadata": {},
   "outputs": [],
   "source": [
    "p1 = \"coke\"\n",
    "p2 = \"fanta\"\n",
    "price1 = 100\n",
    "price2 = 110\n",
    "q1 = 2\n",
    "q2 = 3\n",
    "bill = {1:{'Name':\"Coke\",'Price':100,'Quantity':2},\n",
    "       2:{'Name':\"Fanta\",'Price':110,'Quantity':3},\n",
    "       {'Total':210}}"
   ]
  },
  {
   "cell_type": "code",
   "execution_count": 4,
   "metadata": {},
   "outputs": [
    {
     "name": "stdout",
     "output_type": "stream",
     "text": [
      "Enter how many types of product = 2\n",
      "Enter name=Apple\n",
      "Enter price3\n",
      "Enter quantity200\n",
      "Enter name=Banana\n",
      "Enter price110\n",
      "Enter quantity3\n",
      "{1: {'Name': 'Apple', 'Price': 3, 'Quantity': 200, 'Total': 600}, 2: {'Name': 'Banana', 'Price': 110, 'Quantity': 3, 'Total': 330}, 'Total Price': 930}\n"
     ]
    }
   ],
   "source": [
    "infos = {}\n",
    "total =0\n",
    "n = int(input(\"Enter how many types of product = \"))\n",
    "for i in range(1,n+1):\n",
    "    name = input(\"Enter name=\")\n",
    "    price = int(input(\"Enter price\"))\n",
    "    quantity = int(input(\"Enter quantity\"))\n",
    "    \n",
    "    \n",
    "    total_price = price*quantity\n",
    "    total = total + total_price\n",
    "    \n",
    "    infos[i] = {'Name':name,'Price':price,'Quantity':quantity,'Total':total_price}\n",
    "\n",
    "infos['Total Price']=total\n",
    "print(infos)"
   ]
  },
  {
   "cell_type": "code",
   "execution_count": 2,
   "metadata": {},
   "outputs": [
    {
     "name": "stdout",
     "output_type": "stream",
     "text": [
      "{'Coke': {'Name': 'Coke', 'Price': 100, 'Quantity': 2, 'Total': 200}, 'Total Price': 1400, 'Apple': {'Name': 'Apple', 'Price': 400, 'Quantity': 3, 'Total': 1200}}\n"
     ]
    }
   ],
   "source": [
    "infos['Total Price']=total\n",
    "print(infos)"
   ]
  },
  {
   "cell_type": "code",
   "execution_count": 5,
   "metadata": {},
   "outputs": [
    {
     "name": "stdout",
     "output_type": "stream",
     "text": [
      "Enter how many types of product = 2\n",
      "Enter name=Apple\n",
      "Enter price300\n",
      "Enter quantity4\n",
      "Enter name=Banana\n",
      "Enter price110\n",
      "Enter quantity4\n",
      "{'Name': ['Apple', 'Banana'], 'Price': [300, 110], 'Quantity': [4, 4], 'Total': [1200, 440], 'Total Price': 1640}\n"
     ]
    }
   ],
   "source": [
    "infos = {}\n",
    "total =0\n",
    "names = []\n",
    "prices = []\n",
    "quantitys = []\n",
    "total_prices = []\n",
    "n = int(input(\"Enter how many types of product = \"))\n",
    "for i in range(1,n+1):\n",
    "    name = input(\"Enter name=\")\n",
    "    price = int(input(\"Enter price\"))\n",
    "    quantity = int(input(\"Enter quantity\"))\n",
    "    \n",
    "    \n",
    "    total_price = price*quantity\n",
    "    total = total + total_price\n",
    "    \n",
    "    names.append(name)\n",
    "    prices.append(price)\n",
    "    quantitys.append(quantity)\n",
    "    total_prices.append(total_price)\n",
    "    \n",
    "infos = {'Name':names,'Price':prices,'Quantity':quantitys,'Total':total_prices}\n",
    "\n",
    "infos['Total Price']=total\n",
    "print(infos)"
   ]
  },
  {
   "cell_type": "code",
   "execution_count": null,
   "metadata": {},
   "outputs": [],
   "source": []
  }
 ],
 "metadata": {
  "kernelspec": {
   "display_name": "Python 3",
   "language": "python",
   "name": "python3"
  },
  "language_info": {
   "codemirror_mode": {
    "name": "ipython",
    "version": 3
   },
   "file_extension": ".py",
   "mimetype": "text/x-python",
   "name": "python",
   "nbconvert_exporter": "python",
   "pygments_lexer": "ipython3",
   "version": "3.5.5"
  }
 },
 "nbformat": 4,
 "nbformat_minor": 2
}
