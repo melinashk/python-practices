{
 "cells": [
  {
   "cell_type": "code",
   "execution_count": 1,
   "metadata": {},
   "outputs": [
    {
     "data": {
      "text/plain": [
       "['A', 'p', 'p', 'l', 'e']"
      ]
     },
     "execution_count": 1,
     "metadata": {},
     "output_type": "execute_result"
    }
   ],
   "source": [
    "#list\n",
    "a=list(\"Apple\")\n",
    "a"
   ]
  },
  {
   "cell_type": "code",
   "execution_count": 2,
   "metadata": {},
   "outputs": [
    {
     "data": {
      "text/plain": [
       "'A'"
      ]
     },
     "execution_count": 2,
     "metadata": {},
     "output_type": "execute_result"
    }
   ],
   "source": [
    "a[0]"
   ]
  },
  {
   "cell_type": "code",
   "execution_count": 4,
   "metadata": {},
   "outputs": [],
   "source": [
    "a=[\"Apple\",\"Ball\"]\n",
    "b=[\"Cat\",\"Dog\"]\n",
    "c=b+a"
   ]
  },
  {
   "cell_type": "code",
   "execution_count": 6,
   "metadata": {},
   "outputs": [
    {
     "name": "stdout",
     "output_type": "stream",
     "text": [
      "Cat\n",
      "Dog\n",
      "Apple\n",
      "Ball\n"
     ]
    }
   ],
   "source": [
    "for i in c:\n",
    "    print (i)"
   ]
  },
  {
   "cell_type": "code",
   "execution_count": 7,
   "metadata": {},
   "outputs": [
    {
     "name": "stdout",
     "output_type": "stream",
     "text": [
      "['Cat', 'Dog', 'Apple', 'Ball']\n",
      "['Cat', 'Dog', 'Apple', 'Ball']\n",
      "['Cat', 'Dog', 'Apple', 'Ball']\n",
      "['Cat', 'Dog', 'Apple', 'Ball']\n"
     ]
    }
   ],
   "source": [
    "for i in c:\n",
    "    print (c)"
   ]
  },
  {
   "cell_type": "code",
   "execution_count": 8,
   "metadata": {},
   "outputs": [
    {
     "data": {
      "text/plain": [
       "4"
      ]
     },
     "execution_count": 8,
     "metadata": {},
     "output_type": "execute_result"
    }
   ],
   "source": [
    "len(c)"
   ]
  },
  {
   "cell_type": "code",
   "execution_count": 10,
   "metadata": {},
   "outputs": [
    {
     "name": "stdout",
     "output_type": "stream",
     "text": [
      "Cat\n",
      "Dog\n",
      "Apple\n",
      "Ball\n"
     ]
    }
   ],
   "source": [
    "for i in range (len(c)):\n",
    "    print (c[i])"
   ]
  },
  {
   "cell_type": "code",
   "execution_count": 11,
   "metadata": {},
   "outputs": [
    {
     "name": "stdout",
     "output_type": "stream",
     "text": [
      "enter value: 1\n",
      "enter value: 2\n",
      "enter value: 3\n",
      "enter value: 4\n",
      "enter value: 5\n",
      "[1, 2, 3, 4, 5]\n"
     ]
    }
   ],
   "source": [
    "#creating list by user\n",
    "n = 5\n",
    "y=[]\n",
    "for i in range(n):\n",
    "    x = int(input(\"enter value: \"))\n",
    "    y=y+[x]\n",
    "print(y)\n",
    "    "
   ]
  },
  {
   "cell_type": "code",
   "execution_count": 18,
   "metadata": {},
   "outputs": [
    {
     "name": "stdout",
     "output_type": "stream",
     "text": [
      "enter value: Zebra\n",
      "enter value: 1apple\n",
      "enter value: .Apple\n",
      "enter value: cat\n",
      "enter value: Fish\n",
      "['Zebra', '1apple', '.Apple', 'cat', 'Fish']\n"
     ]
    }
   ],
   "source": [
    "n = 5\n",
    "y=[]\n",
    "for i in range(n):\n",
    "    x = str(input(\"enter value: \"))\n",
    "    y=y+[x]\n",
    "print(y)"
   ]
  },
  {
   "cell_type": "code",
   "execution_count": 19,
   "metadata": {},
   "outputs": [
    {
     "data": {
      "text/plain": [
       "['.Apple', '1apple', 'Fish', 'Zebra', 'cat']"
      ]
     },
     "execution_count": 19,
     "metadata": {},
     "output_type": "execute_result"
    }
   ],
   "source": [
    "y.sort()\n",
    "y"
   ]
  },
  {
   "cell_type": "code",
   "execution_count": 12,
   "metadata": {},
   "outputs": [
    {
     "name": "stdout",
     "output_type": "stream",
     "text": [
      "enter value: Apple\n",
      "enter value: Ball\n",
      "enter value: Cat\n",
      "enter value: Dog \n",
      "enter value: Fish\n",
      "['Apple', 'Ball', 'Cat', 'Dog ', 'Fish']\n"
     ]
    }
   ],
   "source": [
    "n = 5\n",
    "y=[]\n",
    "for i in range(n):\n",
    "    x = str(input(\"enter value: \"))\n",
    "    y=y+[x]\n",
    "print(y)"
   ]
  },
  {
   "cell_type": "code",
   "execution_count": 13,
   "metadata": {},
   "outputs": [
    {
     "name": "stdout",
     "output_type": "stream",
     "text": [
      "enter n= 5\n",
      "enter value: 12\n",
      "enter value: 43\n",
      "enter value: 56\n",
      "enter value: 23\n",
      "enter value: 23\n",
      "[12, 43, 56, 23, 23]\n"
     ]
    }
   ],
   "source": [
    "n = int(input(\"enter n= \"))\n",
    "y=[]\n",
    "for i in range(n):\n",
    "    x = int(input(\"enter value: \"))\n",
    "    y=y+[x]\n",
    "print(y)"
   ]
  },
  {
   "cell_type": "code",
   "execution_count": 16,
   "metadata": {},
   "outputs": [
    {
     "name": "stdout",
     "output_type": "stream",
     "text": [
      "157\n",
      "56\n",
      "12\n",
      "[12, 23, 23, 43, 56]\n"
     ]
    }
   ],
   "source": [
    "print (sum(y))\n",
    "print (max(y))\n",
    "print (min(y))\n",
    "y.sort()\n",
    "print(y)"
   ]
  },
  {
   "cell_type": "code",
   "execution_count": 17,
   "metadata": {},
   "outputs": [
    {
     "name": "stdout",
     "output_type": "stream",
     "text": [
      "[56, 43, 23, 23, 12]\n"
     ]
    }
   ],
   "source": [
    "y.reverse()\n",
    "print(y)"
   ]
  },
  {
   "cell_type": "code",
   "execution_count": 20,
   "metadata": {},
   "outputs": [
    {
     "data": {
      "text/plain": [
       "['Apple', 'Ant', 'Fish', 'Zebra', 'cat']"
      ]
     },
     "execution_count": 20,
     "metadata": {},
     "output_type": "execute_result"
    }
   ],
   "source": [
    "a=['Apple', 'apple', 'Fish', 'Zebra', 'cat']\n",
    "a[1]='Ant'\n",
    "a"
   ]
  },
  {
   "cell_type": "code",
   "execution_count": null,
   "metadata": {},
   "outputs": [],
   "source": []
  }
 ],
 "metadata": {
  "kernelspec": {
   "display_name": "Python 3",
   "language": "python",
   "name": "python3"
  },
  "language_info": {
   "codemirror_mode": {
    "name": "ipython",
    "version": 3
   },
   "file_extension": ".py",
   "mimetype": "text/x-python",
   "name": "python",
   "nbconvert_exporter": "python",
   "pygments_lexer": "ipython3",
   "version": "3.8.3"
  }
 },
 "nbformat": 4,
 "nbformat_minor": 4
}
