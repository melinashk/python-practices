{
 "cells": [
  {
   "cell_type": "code",
   "execution_count": 1,
   "metadata": {},
   "outputs": [
    {
     "name": "stdout",
     "output_type": "stream",
     "text": [
      "[1, 2, 3, 4, 5, 6, 7, 8, 9, 10]\n",
      "['Apple', 'Ball', 'Cat']\n",
      "<class 'list'> <class 'list'>\n"
     ]
    }
   ],
   "source": [
    "a =[1,2,3,4,5,6,7,8,9,10]\n",
    "b = [\"Apple\",\"Ball\",\"Cat\"]\n",
    "print(a)\n",
    "print(b)\n",
    "print(type(a),type(b))"
   ]
  },
  {
   "cell_type": "code",
   "execution_count": 2,
   "metadata": {},
   "outputs": [
    {
     "data": {
      "text/plain": [
       "['A', 'p', 'p', 'l', 'e']"
      ]
     },
     "execution_count": 2,
     "metadata": {},
     "output_type": "execute_result"
    }
   ],
   "source": [
    "a = list(\"Apple\")\n",
    "a"
   ]
  },
  {
   "cell_type": "code",
   "execution_count": 9,
   "metadata": {},
   "outputs": [
    {
     "data": {
      "text/plain": [
       "'p'"
      ]
     },
     "execution_count": 9,
     "metadata": {},
     "output_type": "execute_result"
    }
   ],
   "source": [
    "a[2]"
   ]
  },
  {
   "cell_type": "code",
   "execution_count": 6,
   "metadata": {},
   "outputs": [
    {
     "data": {
      "text/plain": [
       "['A', 'p', 'p', 'l', 'e']"
      ]
     },
     "execution_count": 6,
     "metadata": {},
     "output_type": "execute_result"
    }
   ],
   "source": [
    "a[0:5]"
   ]
  },
  {
   "cell_type": "code",
   "execution_count": 7,
   "metadata": {},
   "outputs": [
    {
     "data": {
      "text/plain": [
       "['A', 'p', 'p', 'l', 'e']"
      ]
     },
     "execution_count": 7,
     "metadata": {},
     "output_type": "execute_result"
    }
   ],
   "source": [
    "a[0:100]"
   ]
  },
  {
   "cell_type": "code",
   "execution_count": 10,
   "metadata": {},
   "outputs": [
    {
     "data": {
      "text/plain": [
       "['A', 'p', 'e']"
      ]
     },
     "execution_count": 10,
     "metadata": {},
     "output_type": "execute_result"
    }
   ],
   "source": [
    "a[0:5:2]"
   ]
  },
  {
   "cell_type": "code",
   "execution_count": 13,
   "metadata": {},
   "outputs": [],
   "source": [
    "a = [\"Apple\",\"Ball\"]\n",
    "b = [\"Cat\",\"Dog\"]\n",
    "c = b+a"
   ]
  },
  {
   "cell_type": "code",
   "execution_count": 15,
   "metadata": {},
   "outputs": [
    {
     "name": "stdout",
     "output_type": "stream",
     "text": [
      "Cat\n",
      "Dog\n",
      "Apple\n",
      "Ball\n"
     ]
    }
   ],
   "source": [
    "for i in c:\n",
    "    print(i)"
   ]
  },
  {
   "cell_type": "code",
   "execution_count": 20,
   "metadata": {},
   "outputs": [
    {
     "data": {
      "text/plain": [
       "['Cat', 'Dog', 'Apple', 'Ball']"
      ]
     },
     "execution_count": 20,
     "metadata": {},
     "output_type": "execute_result"
    }
   ],
   "source": [
    "c"
   ]
  },
  {
   "cell_type": "code",
   "execution_count": 17,
   "metadata": {},
   "outputs": [
    {
     "data": {
      "text/plain": [
       "4"
      ]
     },
     "execution_count": 17,
     "metadata": {},
     "output_type": "execute_result"
    }
   ],
   "source": [
    "len(c)"
   ]
  },
  {
   "cell_type": "code",
   "execution_count": 19,
   "metadata": {},
   "outputs": [
    {
     "name": "stdout",
     "output_type": "stream",
     "text": [
      "Cat\n",
      "Dog\n",
      "Apple\n",
      "Ball\n"
     ]
    }
   ],
   "source": [
    "for i in range(len(c)):\n",
    "    print(c[i])"
   ]
  },
  {
   "cell_type": "code",
   "execution_count": 16,
   "metadata": {},
   "outputs": [
    {
     "name": "stdout",
     "output_type": "stream",
     "text": [
      "['Cat', 'Dog', 'Apple', 'Ball']\n",
      "['Cat', 'Dog', 'Apple', 'Ball']\n",
      "['Cat', 'Dog', 'Apple', 'Ball']\n",
      "['Cat', 'Dog', 'Apple', 'Ball']\n"
     ]
    }
   ],
   "source": [
    "for i in c:\n",
    "    print(c)"
   ]
  },
  {
   "cell_type": "code",
   "execution_count": 22,
   "metadata": {},
   "outputs": [
    {
     "name": "stdout",
     "output_type": "stream",
     "text": [
      "Enter value = 1\n",
      "Enter value = 2\n",
      "Enter value = 3\n",
      "Enter value = 4\n",
      "Enter value = 5\n",
      "[1, 2, 3, 4, 5]\n"
     ]
    }
   ],
   "source": [
    "# creating list by user\n",
    "n = 5\n",
    "y = []\n",
    "for i in range(n):\n",
    "    x = int(input(\"Enter value = \"))\n",
    "    y = y+[x]\n",
    "print(y)"
   ]
  },
  {
   "cell_type": "code",
   "execution_count": 32,
   "metadata": {},
   "outputs": [
    {
     "name": "stdout",
     "output_type": "stream",
     "text": [
      "Enter value = Zebra\n",
      "Enter value = 1apple\n",
      "Enter value = .Apple\n",
      "Enter value = Cat\n",
      "Enter value = fish\n",
      "['Zebra', '1apple', '.Apple', 'Cat', 'fish']\n"
     ]
    }
   ],
   "source": [
    "# creating list by user\n",
    "n = 5\n",
    "y = []\n",
    "for i in range(n):\n",
    "    x = str(input(\"Enter value = \"))\n",
    "    y = y+[x]\n",
    "print(y)"
   ]
  },
  {
   "cell_type": "code",
   "execution_count": 33,
   "metadata": {},
   "outputs": [
    {
     "data": {
      "text/plain": [
       "['.Apple', '1apple', 'Cat', 'Zebra', 'fish']"
      ]
     },
     "execution_count": 33,
     "metadata": {},
     "output_type": "execute_result"
    }
   ],
   "source": [
    "y.sort()\n",
    "y"
   ]
  },
  {
   "cell_type": "code",
   "execution_count": 24,
   "metadata": {},
   "outputs": [
    {
     "name": "stdout",
     "output_type": "stream",
     "text": [
      "Enter n = 5\n",
      "Enter value = 12\n",
      "Enter value = 43\n",
      "Enter value = 56\n",
      "Enter value = 23\n",
      "Enter value = 23\n",
      "[12, 43, 56, 23, 23]\n"
     ]
    }
   ],
   "source": [
    "# creating list by user\n",
    "n = int(input(\"Enter n = \"))\n",
    "y = []\n",
    "for i in range(n):\n",
    "    x = int(input(\"Enter value = \"))\n",
    "    y = y+[x]\n",
    "print(y)"
   ]
  },
  {
   "cell_type": "code",
   "execution_count": 30,
   "metadata": {},
   "outputs": [
    {
     "name": "stdout",
     "output_type": "stream",
     "text": [
      "the sum is =  157\n",
      "Max value is =  56\n",
      "min value =  12\n",
      "[12, 23, 23, 43, 56]\n"
     ]
    }
   ],
   "source": [
    "print(\"the sum is = \",sum(y))\n",
    "print(\"Max value is = \",max(y))\n",
    "print(\"min value = \",min(y))\n",
    "y.sort()\n",
    "print(y)"
   ]
  },
  {
   "cell_type": "code",
   "execution_count": 31,
   "metadata": {},
   "outputs": [
    {
     "data": {
      "text/plain": [
       "[56, 43, 23, 23, 12]"
      ]
     },
     "execution_count": 31,
     "metadata": {},
     "output_type": "execute_result"
    }
   ],
   "source": [
    "y.reverse()\n",
    "y"
   ]
  },
  {
   "cell_type": "code",
   "execution_count": 35,
   "metadata": {},
   "outputs": [
    {
     "data": {
      "text/plain": [
       "['Apple', 'Ant', 'Cat', 'Zebra', 'fish']"
      ]
     },
     "execution_count": 35,
     "metadata": {},
     "output_type": "execute_result"
    }
   ],
   "source": [
    "a = ['Apple', 'apple', 'Cat', 'Zebra', 'fish']\n",
    "a[1] = 'Ant'\n",
    "a"
   ]
  },
  {
   "cell_type": "code",
   "execution_count": 36,
   "metadata": {},
   "outputs": [],
   "source": [
    "# del remove pop"
   ]
  },
  {
   "cell_type": "code",
   "execution_count": 38,
   "metadata": {},
   "outputs": [
    {
     "name": "stdout",
     "output_type": "stream",
     "text": [
      "['Ant', 'Cat', 'Zebra', 'fish']\n"
     ]
    }
   ],
   "source": [
    "del a[0]\n",
    "print(a)"
   ]
  },
  {
   "cell_type": "code",
   "execution_count": 41,
   "metadata": {},
   "outputs": [
    {
     "name": "stdout",
     "output_type": "stream",
     "text": [
      "['Ant', 'Cat', 'Zebra', 'fish']\n"
     ]
    }
   ],
   "source": [
    "a = ['Apple', 'Ant', 'Cat', 'Zebra', 'fish']\n",
    "a.remove('Apple')\n",
    "print(a)"
   ]
  },
  {
   "cell_type": "code",
   "execution_count": 43,
   "metadata": {},
   "outputs": [
    {
     "name": "stdout",
     "output_type": "stream",
     "text": [
      "['Apple', 'Ant', 'Cat', 'fish']\n"
     ]
    }
   ],
   "source": [
    "a = ['Apple', 'Ant', 'Cat', 'Zebra', 'fish']\n",
    "a.pop(3)\n",
    "print(a)"
   ]
  },
  {
   "cell_type": "code",
   "execution_count": 44,
   "metadata": {},
   "outputs": [
    {
     "name": "stdout",
     "output_type": "stream",
     "text": [
      "['Apple', 'Ant', 'Cat', 'fish']\n",
      "Zebra\n"
     ]
    }
   ],
   "source": [
    "a = ['Apple', 'Ant', 'Cat', 'Zebra', 'fish']\n",
    "b = a.pop(3)\n",
    "print(a)\n",
    "print(b)"
   ]
  },
  {
   "cell_type": "code",
   "execution_count": 45,
   "metadata": {},
   "outputs": [
    {
     "name": "stdout",
     "output_type": "stream",
     "text": [
      "['Apple', 'Ant', 'Cat', 'Zebra', 'fish', 'goat']\n"
     ]
    }
   ],
   "source": [
    "# append()\n",
    "a = ['Apple', 'Ant', 'Cat', 'Zebra', 'fish']\n",
    "a.append('goat')\n",
    "print(a)"
   ]
  },
  {
   "cell_type": "code",
   "execution_count": 48,
   "metadata": {},
   "outputs": [
    {
     "name": "stdout",
     "output_type": "stream",
     "text": [
      "Enter n = 3\n",
      "Enter value = Ram\n",
      "Enter value = Shyam\n",
      "Enter value = Hari\n",
      "['Ram', 'Shyam', 'Hari']\n"
     ]
    }
   ],
   "source": [
    "# creating list by user\n",
    "n = int(input(\"Enter n = \"))\n",
    "y = []\n",
    "for i in range(n):\n",
    "    x = input(\"Enter value = \")\n",
    "    y.append(x)\n",
    "print(y)"
   ]
  },
  {
   "cell_type": "code",
   "execution_count": 5,
   "metadata": {},
   "outputs": [
    {
     "name": "stdout",
     "output_type": "stream",
     "text": [
      "Enter how many rows = 2\n",
      "Enter name=Ram\n",
      "Enter Marks78\n",
      "Enter Marks98\n",
      "Enter Marks67\n",
      "Enter Marks90\n",
      "Enter Marks78\n",
      "Enter name=Shyam\n",
      "Enter Marks56\n",
      "Enter Marks90\n",
      "Enter Marks98\n",
      "Enter Marks89\n",
      "Enter Marks99\n",
      "['1 Ram 78 98 67 90 78 411 82.2', '2 Shyam 56 90 98 89 99 432 86.4']\n"
     ]
    }
   ],
   "source": [
    "infos = []\n",
    "n = int(input(\"Enter how many rows = \"))\n",
    "for i in range(1,n+1):\n",
    "    name = input(\"Enter name=\")\n",
    "    physics = int(input(\"Enter Marks\"))\n",
    "    chemistry = int(input(\"Enter Marks\"))\n",
    "    Math = int(input(\"Enter Marks\"))\n",
    "    English = int(input(\"Enter Marks\"))\n",
    "    Nepali = int(input(\"Enter Marks\"))\n",
    "    \n",
    "    total = sum([physics,chemistry,Math,English,Nepali])\n",
    "    per = total/5\n",
    "    \n",
    "    \n",
    "    info = f\"{i} {name} {physics} {chemistry} {Math} {English} {Nepali} {total} {per}\"\n",
    "    infos.append(info)\n",
    "    \n",
    "print(infos)"
   ]
  },
  {
   "cell_type": "code",
   "execution_count": 7,
   "metadata": {},
   "outputs": [
    {
     "name": "stdout",
     "output_type": "stream",
     "text": [
      "Enter roll = 1\n",
      "1 Ram 78 98 67 90 78 411 82.2\n"
     ]
    }
   ],
   "source": [
    "roll = int(input(\"Enter roll = \"))\n",
    "result = infos[roll-1]\n",
    "print(result)"
   ]
  },
  {
   "cell_type": "code",
   "execution_count": 12,
   "metadata": {},
   "outputs": [
    {
     "name": "stdout",
     "output_type": "stream",
     "text": [
      "Enter roll = 1\n",
      "['2 Shyam 56 90 98 89 99 432 86.4']\n"
     ]
    }
   ],
   "source": [
    "result = ['1 Ram 78 98 67 90 78 411 82.2', '2 Shyam 56 90 98 89 99 432 86.4']\n",
    "\n",
    "roll = int(input(\"Enter roll = \"))\n",
    "del result[roll-1]\n",
    "print(result)"
   ]
  },
  {
   "cell_type": "code",
   "execution_count": 15,
   "metadata": {},
   "outputs": [
    {
     "name": "stdout",
     "output_type": "stream",
     "text": [
      "['Ant', 'Cat', 'Zebra', 'fish']\n"
     ]
    }
   ],
   "source": [
    "a = ['Apple', 'Ant', 'Cat', 'Zebra', 'fish','Apple']\n",
    "for i in a:\n",
    "    if i =='Apple':\n",
    "        a.remove('Apple')\n",
    "print(a)"
   ]
  },
  {
   "cell_type": "code",
   "execution_count": 17,
   "metadata": {},
   "outputs": [
    {
     "name": "stdout",
     "output_type": "stream",
     "text": [
      "['Ant', 'Cat', 'Zebra', 'fish']\n"
     ]
    }
   ],
   "source": [
    "# HW\n",
    "a = ['Apple', 'Ant', 'Cat', 'Zebra', 'fish','Apple']\n",
    "l = len(a)\n",
    "for i in range(l-1):\n",
    "    if a[i] =='Apple':\n",
    "        a.remove('Apple')\n",
    "print(a)"
   ]
  },
  {
   "cell_type": "code",
   "execution_count": 18,
   "metadata": {},
   "outputs": [
    {
     "name": "stdout",
     "output_type": "stream",
     "text": [
      "['Apple', 'Ant', 'Apple']\n"
     ]
    }
   ],
   "source": [
    "a = ['Apple', 'Ant', 'Cat', 'Zebra', 'fish','Apple']\n",
    "new_list = []\n",
    "for i in a:\n",
    "    if i[0] == 'A':\n",
    "        new_list.append(i)\n",
    "print(new_list)"
   ]
  },
  {
   "cell_type": "code",
   "execution_count": 19,
   "metadata": {},
   "outputs": [
    {
     "name": "stdout",
     "output_type": "stream",
     "text": [
      "Yes 2\n"
     ]
    }
   ],
   "source": [
    "a = ['Apple', 'Ant', 'Cat', 'Zebra', 'fish','Apple']\n",
    "if \"Apple\" in a:\n",
    "    print(\"Yes\",a.count('Apple'))"
   ]
  },
  {
   "cell_type": "code",
   "execution_count": 20,
   "metadata": {},
   "outputs": [
    {
     "data": {
      "text/plain": [
       "0"
      ]
     },
     "execution_count": 20,
     "metadata": {},
     "output_type": "execute_result"
    }
   ],
   "source": [
    "a = ['Apple', 'Ant', 'Cat', 'Zebra', 'fish','Apple']\n",
    "a.index('Apple')"
   ]
  },
  {
   "cell_type": "code",
   "execution_count": 21,
   "metadata": {},
   "outputs": [
    {
     "name": "stdout",
     "output_type": "stream",
     "text": [
      "0\n",
      "5\n"
     ]
    }
   ],
   "source": [
    "a = ['Apple', 'Ant', 'Cat', 'Zebra', 'fish','Apple']\n",
    "for i in range(len(a)):\n",
    "    if a[i] == 'Apple':\n",
    "        print(i)\n",
    "# a.index('Apple')"
   ]
  },
  {
   "cell_type": "code",
   "execution_count": 23,
   "metadata": {},
   "outputs": [
    {
     "name": "stdout",
     "output_type": "stream",
     "text": [
      "Index =  0\n",
      "Index =  5\n",
      "The count is =  2\n"
     ]
    }
   ],
   "source": [
    "a = ['Apple', 'Ant', 'Cat', 'Zebra', 'fish','Apple']\n",
    "for i in range(len(a)):\n",
    "    if a[i] == 'Apple':\n",
    "        print(\"Index = \",i)\n",
    "print(\"The count is = \",a.count('Apple'))"
   ]
  },
  {
   "cell_type": "code",
   "execution_count": null,
   "metadata": {},
   "outputs": [],
   "source": []
  }
 ],
 "metadata": {
  "kernelspec": {
   "display_name": "Python 3",
   "language": "python",
   "name": "python3"
  },
  "language_info": {
   "codemirror_mode": {
    "name": "ipython",
    "version": 3
   },
   "file_extension": ".py",
   "mimetype": "text/x-python",
   "name": "python",
   "nbconvert_exporter": "python",
   "pygments_lexer": "ipython3",
   "version": "3.7.1"
  }
 },
 "nbformat": 4,
 "nbformat_minor": 2
}
