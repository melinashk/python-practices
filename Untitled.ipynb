{
 "cells": [
  {
   "cell_type": "code",
   "execution_count": 1,
   "metadata": {},
   "outputs": [
    {
     "name": "stdout",
     "output_type": "stream",
     "text": [
      "enter p=10000\n",
      "enter t=2\n",
      "enter r=3\n",
      "the value is 600.0\n",
      "do you want to enter again?y\n",
      "enter p=100\n",
      "enter t=4\n",
      "enter r=5\n",
      "the value is 20.0\n",
      "do you want to enter again?w\n"
     ]
    }
   ],
   "source": [
    "#recursive function\n",
    "def cal():\n",
    "    p=int(input(\"enter p=\"))\n",
    "    t=float(input(\"enter t=\"))\n",
    "    r=float(input(\"enter r=\"))\n",
    "    i=p*t*r/100\n",
    "    print (\"the value is\",i)\n",
    "    a=input(\"do you want to enter again?\")\n",
    "    if a=='y':\n",
    "        cal()\n",
    "cal()\n",
    "        "
   ]
  },
  {
   "cell_type": "code",
   "execution_count": 4,
   "metadata": {},
   "outputs": [
    {
     "name": "stdout",
     "output_type": "stream",
     "text": [
      "3.141592653589793\n",
      "9.0\n",
      "2.0\n"
     ]
    }
   ],
   "source": [
    "#math function\n",
    "import math as m\n",
    "print(m.pi)\n",
    "print (m.pow(3,2))\n",
    "print (m.sqrt(4))"
   ]
  },
  {
   "cell_type": "code",
   "execution_count": 5,
   "metadata": {},
   "outputs": [
    {
     "name": "stdout",
     "output_type": "stream",
     "text": [
      "enter the value of r=5\n",
      "the area = 78.53981633974483\n"
     ]
    }
   ],
   "source": [
    "import math as m\n",
    "r=int(input(\"enter the value of r=\"))\n",
    "a=m.pi*m.pow(r,2)\n",
    "print (\"the area =\",a)"
   ]
  },
  {
   "cell_type": "code",
   "execution_count": 6,
   "metadata": {},
   "outputs": [
    {
     "data": {
      "text/plain": [
       "1.0"
      ]
     },
     "execution_count": 6,
     "metadata": {},
     "output_type": "execute_result"
    }
   ],
   "source": [
    "import math as m\n",
    "m.sin(m.pi/2)"
   ]
  },
  {
   "cell_type": "code",
   "execution_count": 8,
   "metadata": {},
   "outputs": [
    {
     "data": {
      "text/plain": [
       "1.0"
      ]
     },
     "execution_count": 8,
     "metadata": {},
     "output_type": "execute_result"
    }
   ],
   "source": [
    "import math as m\n",
    "x=m.sin(m.pi)\n",
    "y=m.cos(m.pi)\n",
    "m.pow(x,2)+m.pow(y,2)"
   ]
  },
  {
   "cell_type": "code",
   "execution_count": 12,
   "metadata": {},
   "outputs": [
    {
     "name": "stdout",
     "output_type": "stream",
     "text": [
      "enter a=10\n",
      "enter b=2\n",
      "enter + - * /:/\n",
      "5.0\n",
      "enter y for more calculationn\n"
     ]
    }
   ],
   "source": [
    "def cal():\n",
    "    a=int(input(\"enter a=\"))\n",
    "    b=int(input(\"enter b=\"))\n",
    "    o=input(\"enter + - * /:\")\n",
    "\n",
    "    if o == '+':\n",
    "        print (a+b)\n",
    "    elif o == '-':\n",
    "        print (a-b)\n",
    "    elif o == '*':\n",
    "        print (a*b)\n",
    "    elif o == '/':\n",
    "        if b==0:\n",
    "            print (\"error\")\n",
    "        else:\n",
    "            print (a/b)\n",
    "    else:\n",
    "        print (\"Invalid operator\")\n",
    "        \n",
    "    x = input(\"enter y for more calculation\")\n",
    "    if x=='y':\n",
    "        cal()\n",
    "cal()"
   ]
  },
  {
   "cell_type": "code",
   "execution_count": 23,
   "metadata": {},
   "outputs": [
    {
     "name": "stdout",
     "output_type": "stream",
     "text": [
      "3\n",
      "6\n",
      "2.0\n"
     ]
    }
   ],
   "source": [
    "def cal(x,y,o):\n",
    "    if o == '+':\n",
    "        return x+y\n",
    "    elif o == '-':\n",
    "        return x-y\n",
    "    elif o == '*':\n",
    "        return x*y\n",
    "    elif o == '/':\n",
    "        if b==0:\n",
    "            print (\"error\")\n",
    "        else:\n",
    "            return x/y\n",
    "    else:\n",
    "        print (\"Invalid operator\")\n",
    "print(cal(5,2,'-'))\n",
    "print(cal(2,3,'*'))\n",
    "print(cal(10,5,'/'))"
   ]
  },
  {
   "cell_type": "code",
   "execution_count": 18,
   "metadata": {},
   "outputs": [
    {
     "name": "stdout",
     "output_type": "stream",
     "text": [
      "enter a=10\n",
      "enter b=2\n",
      "enter + - * /:-\n"
     ]
    },
    {
     "data": {
      "text/plain": [
       "8"
      ]
     },
     "execution_count": 18,
     "metadata": {},
     "output_type": "execute_result"
    }
   ],
   "source": [
    "a=int(input(\"enter a=\"))\n",
    "b=int(input(\"enter b=\"))\n",
    "o=input(\"enter + - * /:\")\n",
    "def cal(x,y,z):\n",
    "    if o == '+':\n",
    "        return x+y\n",
    "    elif o == '-':\n",
    "        return x-y\n",
    "    elif o == '*':\n",
    "        return x*y\n",
    "    elif o == '/':\n",
    "        if b==0:\n",
    "            print (\"error\")\n",
    "        else:\n",
    "            return x/y\n",
    "    else:\n",
    "        print (\"Invalid operator\")\n",
    "cal(a,b,o)"
   ]
  },
  {
   "cell_type": "code",
   "execution_count": 21,
   "metadata": {},
   "outputs": [
    {
     "name": "stdout",
     "output_type": "stream",
     "text": [
      "enter a=10\n",
      "enter b=2\n",
      "enter + - * /:-\n",
      "8\n"
     ]
    }
   ],
   "source": [
    "def add(a,b):\n",
    "    return a+b\n",
    "def sub(a,b):\n",
    "    return a-b\n",
    "def mul(a,b):\n",
    "    return a*b\n",
    "def div(a,b):\n",
    "    return a/b\n",
    "def cal():\n",
    "    a=int(input(\"enter a=\"))\n",
    "    b=int(input(\"enter b=\"))\n",
    "    o=input(\"enter + - * /:\")\n",
    "    if o == '+':\n",
    "        print (add(a,b))\n",
    "    elif o == '-':\n",
    "        print (sub(a,b))\n",
    "    elif o == '*':\n",
    "         print (mul(a,b))\n",
    "    elif o == '/':\n",
    "        if b==0:\n",
    "            print (\"error\")\n",
    "        else:\n",
    "             print (div(a,b))\n",
    "    else:\n",
    "        print (\"Invalid operator\")\n",
    "cal()"
   ]
  },
  {
   "cell_type": "code",
   "execution_count": 25,
   "metadata": {},
   "outputs": [],
   "source": [
    "def avg():\n",
    "    pass\n",
    "avg()"
   ]
  },
  {
   "cell_type": "code",
   "execution_count": null,
   "metadata": {},
   "outputs": [],
   "source": [
    "name=input(\"enter name=\")\n",
    "physics=int(input(\"enter physics marks=\"))\n",
    "chemistry="
   ]
  }
 ],
 "metadata": {
  "kernelspec": {
   "display_name": "Python 3",
   "language": "python",
   "name": "python3"
  },
  "language_info": {
   "codemirror_mode": {
    "name": "ipython",
    "version": 3
   },
   "file_extension": ".py",
   "mimetype": "text/x-python",
   "name": "python",
   "nbconvert_exporter": "python",
   "pygments_lexer": "ipython3",
   "version": "3.8.3"
  }
 },
 "nbformat": 4,
 "nbformat_minor": 4
}
