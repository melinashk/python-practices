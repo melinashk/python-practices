{
 "cells": [
  {
   "cell_type": "markdown",
   "metadata": {},
   "source": []
  },
  {
   "cell_type": "code",
   "execution_count": 11,
   "metadata": {},
   "outputs": [
    {
     "name": "stdout",
     "output_type": "stream",
     "text": [
      "enter the number:4\n",
      "0\n",
      "1\n",
      "1\n",
      "2\n",
      "3\n",
      "5\n",
      "8\n"
     ]
    }
   ],
   "source": [
    "#fibonacci series\n",
    "a=0\n",
    "b=1\n",
    "i=1\n",
    "n=int(input(\"enter the number:\"))\n",
    "print (a)\n",
    "print (b)\n",
    "while i<=n:\n",
    "    c=a+b\n",
    "    a=b\n",
    "    b=c\n",
    "    i=i+1\n",
    "    print (c)\n"
   ]
  },
  {
   "cell_type": "code",
   "execution_count": 5,
   "metadata": {},
   "outputs": [
    {
     "name": "stdout",
     "output_type": "stream",
     "text": [
      "enter a number:7\n",
      "2\n",
      "7  is prime number\n"
     ]
    }
   ],
   "source": [
    "#prime and composite number\n",
    "n=int(input(\"enter a number:\"))\n",
    "c=0\n",
    "for i in range (1,n+1):\n",
    "    if n%i==0:\n",
    "        c=c+1\n",
    "print (c)\n",
    "if c==2:\n",
    "    print (n,\" is prime number\")\n",
    "else:\n",
    "    print (n,\" is composite number\")\n",
    "    \n",
    "    \n"
   ]
  },
  {
   "cell_type": "code",
   "execution_count": 8,
   "metadata": {},
   "outputs": [
    {
     "name": "stdout",
     "output_type": "stream",
     "text": [
      "enter a number:5\n",
      "2\n",
      "5  is prime number\n"
     ]
    }
   ],
   "source": [
    "#prime and composite number\n",
    "n=int(input(\"enter a number:\"))\n",
    "c=0\n",
    "i=1\n",
    "while i<=n:\n",
    "    if n%i==0:\n",
    "        c=c+1\n",
    "    i=i+1\n",
    "print (c)\n",
    "if c==2:\n",
    "    print (n,\" is prime number\")\n",
    "else:\n",
    "    print (n,\" is composite number\")"
   ]
  },
  {
   "cell_type": "code",
   "execution_count": 9,
   "metadata": {},
   "outputs": [
    {
     "name": "stdout",
     "output_type": "stream",
     "text": [
      "enter the number:5\n",
      "0\n",
      "1\n",
      "1\n",
      "2\n",
      "3\n",
      "5\n",
      "8\n"
     ]
    }
   ],
   "source": [
    "#fibonacci series\n",
    "a=0\n",
    "b=1\n",
    "i=1\n",
    "n=int(input(\"enter the number:\"))\n",
    "print (a)\n",
    "print (b)\n",
    "for i in range (1,n+1):\n",
    "    c=a+b\n",
    "    a=b\n",
    "    b=c\n",
    "    i=i+1\n",
    "    print (c)"
   ]
  },
  {
   "cell_type": "code",
   "execution_count": null,
   "metadata": {},
   "outputs": [],
   "source": []
  }
 ],
 "metadata": {
  "kernelspec": {
   "display_name": "Python 3",
   "language": "python",
   "name": "python3"
  },
  "language_info": {
   "codemirror_mode": {
    "name": "ipython",
    "version": 3
   },
   "file_extension": ".py",
   "mimetype": "text/x-python",
   "name": "python",
   "nbconvert_exporter": "python",
   "pygments_lexer": "ipython3",
   "version": "3.8.3"
  }
 },
 "nbformat": 4,
 "nbformat_minor": 4
}
